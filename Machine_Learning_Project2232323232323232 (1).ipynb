{
 "cells": [
  {
   "cell_type": "code",
   "execution_count": 2,
   "metadata": {
    "colab": {
     "base_uri": "https://localhost:8080/"
    },
    "id": "xoPFpunnCWHy",
    "outputId": "b5635b7d-fc9c-45a7-f918-3f3b00f6f645"
   },
   "outputs": [
    {
     "name": "stdout",
     "output_type": "stream",
     "text": [
      "Defaulting to user installation because normal site-packages is not writeable\n",
      "Requirement already satisfied: keras-tuner in c:\\users\\ibrahim nagy\\appdata\\roaming\\python\\python39\\site-packages (1.3.5)\n",
      "Requirement already satisfied: packaging in c:\\programdata\\anaconda3\\lib\\site-packages (from keras-tuner) (21.3)\n",
      "Requirement already satisfied: requests in c:\\programdata\\anaconda3\\lib\\site-packages (from keras-tuner) (2.27.1)\n",
      "Requirement already satisfied: kt-legacy in c:\\users\\ibrahim nagy\\appdata\\roaming\\python\\python39\\site-packages (from keras-tuner) (1.0.5)\n",
      "Requirement already satisfied: pyparsing!=3.0.5,>=2.0.2 in c:\\programdata\\anaconda3\\lib\\site-packages (from packaging->keras-tuner) (3.0.4)\n",
      "Requirement already satisfied: certifi>=2017.4.17 in c:\\programdata\\anaconda3\\lib\\site-packages (from requests->keras-tuner) (2021.10.8)\n",
      "Requirement already satisfied: urllib3<1.27,>=1.21.1 in c:\\users\\ibrahim nagy\\appdata\\roaming\\python\\python39\\site-packages (from requests->keras-tuner) (1.26.15)\n",
      "Requirement already satisfied: charset-normalizer~=2.0.0 in c:\\programdata\\anaconda3\\lib\\site-packages (from requests->keras-tuner) (2.0.4)\n",
      "Requirement already satisfied: idna<4,>=2.5 in c:\\users\\ibrahim nagy\\appdata\\roaming\\python\\python39\\site-packages (from requests->keras-tuner) (2.10)\n",
      "Note: you may need to restart the kernel to use updated packages.\n"
     ]
    }
   ],
   "source": [
    "pip install keras-tuner\n"
   ]
  },
  {
   "cell_type": "code",
   "execution_count": 4,
   "metadata": {
    "id": "zjGm6ZYLCQaw"
   },
   "outputs": [],
   "source": [
    "# For reading our dataset\n",
    "import pandas as pd\n",
    "import numpy as np\n",
    "\n",
    "# For visualization\n",
    "import matplotlib.pyplot as plt\n",
    "%matplotlib inline\n",
    "import seaborn as sns\n",
    "import pickle\n",
    "\n",
    "# For warnings\n",
    "import warnings\n",
    "warnings.filterwarnings(action='ignore')\n",
    "\n",
    "# Importing necessary packages for building and tuning our model\n",
    "from sklearn.preprocessing import MinMaxScaler\n",
    "from sklearn.ensemble import RandomForestClassifier\n",
    "from sklearn.preprocessing import LabelEncoder\n",
    "from sklearn.svm import SVC\n",
    "from sklearn.feature_selection import RFECV\n",
    "from sklearn.linear_model import LogisticRegression\n",
    "from sklearn.metrics import accuracy_score, precision_score, recall_score, f1_score, plot_confusion_matrix, classification_report, confusion_matrix\n",
    "\n",
    "from collections import Counter\n",
    "from imblearn.under_sampling import NearMiss               # For Undersampling\n",
    "from imblearn.over_sampling import RandomOverSampler       # For Oversampling\n",
    "from imblearn.combine import SMOTETomek                    # For Both Undersampling & Oversampling\n",
    "from sklearn.model_selection import train_test_split\n",
    "#from tensorflow import keras\n",
    "#from tensorflow.keras import layers\n",
    "#from tensorflow.keras.wrappers.scikit_learn import KerasClassifier\n",
    "#from keras_tuner.tuners import RandomSearch\n",
    "\n",
    "# For checking acuracy\n",
    "from sklearn.metrics import confusion_matrix, accuracy_score, classification_report"
   ]
  },
  {
   "cell_type": "code",
   "execution_count": 7,
   "metadata": {
    "id": "Nq8OCT8hCwrQ"
   },
   "outputs": [],
   "source": [
    "dataML = pd.read_csv(\"train ML.csv\")"
   ]
  },
  {
   "cell_type": "code",
   "execution_count": 8,
   "metadata": {
    "colab": {
     "base_uri": "https://localhost:8080/",
     "height": 305
    },
    "id": "1GuOa8yxDF1r",
    "outputId": "bab15db4-e95a-4b4f-e1b4-95804c63e90e"
   },
   "outputs": [
    {
     "data": {
      "text/html": [
       "<div>\n",
       "<style scoped>\n",
       "    .dataframe tbody tr th:only-of-type {\n",
       "        vertical-align: middle;\n",
       "    }\n",
       "\n",
       "    .dataframe tbody tr th {\n",
       "        vertical-align: top;\n",
       "    }\n",
       "\n",
       "    .dataframe thead th {\n",
       "        text-align: right;\n",
       "    }\n",
       "</style>\n",
       "<table border=\"1\" class=\"dataframe\">\n",
       "  <thead>\n",
       "    <tr style=\"text-align: right;\">\n",
       "      <th></th>\n",
       "      <th>Unnamed: 0</th>\n",
       "      <th>id</th>\n",
       "      <th>owner_1_score</th>\n",
       "      <th>RATE_owner_1</th>\n",
       "      <th>CAP_AMOUNT_owner_1</th>\n",
       "      <th>PERCENT_OWN_owner_1</th>\n",
       "      <th>owner_2_score</th>\n",
       "      <th>RATE_owner_2</th>\n",
       "      <th>CAP_AMOUNT_owner_2</th>\n",
       "      <th>PERCENT_OWN_owner_2</th>\n",
       "      <th>...</th>\n",
       "      <th>INPUT_VALUE_ID_FOR_avg_net_deposits</th>\n",
       "      <th>RATE_ID_FOR_avg_net_deposits</th>\n",
       "      <th>INPUT_VALUE_ID_FOR_industry_type</th>\n",
       "      <th>RATE_ID_FOR_industry_type</th>\n",
       "      <th>INPUT_VALUE_owner_4</th>\n",
       "      <th>RATE_owner_4</th>\n",
       "      <th>CAP_AMOUNT_owner_4</th>\n",
       "      <th>PERCENT_OWN_owner_4</th>\n",
       "      <th>deal_application_thread_id</th>\n",
       "      <th>completion_status</th>\n",
       "    </tr>\n",
       "  </thead>\n",
       "  <tbody>\n",
       "    <tr>\n",
       "      <th>0</th>\n",
       "      <td>900</td>\n",
       "      <td>4813</td>\n",
       "      <td>606.0</td>\n",
       "      <td>A</td>\n",
       "      <td>150000.0</td>\n",
       "      <td>100.0</td>\n",
       "      <td>NaN</td>\n",
       "      <td>NaN</td>\n",
       "      <td>NaN</td>\n",
       "      <td>NaN</td>\n",
       "      <td>...</td>\n",
       "      <td>0.00</td>\n",
       "      <td>NaN</td>\n",
       "      <td>preferred</td>\n",
       "      <td>NaN</td>\n",
       "      <td>606.0</td>\n",
       "      <td>A</td>\n",
       "      <td>150000.0</td>\n",
       "      <td>100.0</td>\n",
       "      <td>4642.0</td>\n",
       "      <td>Paid off with renewal</td>\n",
       "    </tr>\n",
       "    <tr>\n",
       "      <th>1</th>\n",
       "      <td>329</td>\n",
       "      <td>1406</td>\n",
       "      <td>703.0</td>\n",
       "      <td>A</td>\n",
       "      <td>150000.0</td>\n",
       "      <td>100.0</td>\n",
       "      <td>NaN</td>\n",
       "      <td>NaN</td>\n",
       "      <td>NaN</td>\n",
       "      <td>NaN</td>\n",
       "      <td>...</td>\n",
       "      <td>107027.25</td>\n",
       "      <td>NaN</td>\n",
       "      <td>preferred</td>\n",
       "      <td>NaN</td>\n",
       "      <td>703.0</td>\n",
       "      <td>A</td>\n",
       "      <td>150000.0</td>\n",
       "      <td>100.0</td>\n",
       "      <td>1362.0</td>\n",
       "      <td>Paid in full</td>\n",
       "    </tr>\n",
       "    <tr>\n",
       "      <th>2</th>\n",
       "      <td>1035</td>\n",
       "      <td>7415</td>\n",
       "      <td>692.0</td>\n",
       "      <td>A</td>\n",
       "      <td>150000.0</td>\n",
       "      <td>100.0</td>\n",
       "      <td>NaN</td>\n",
       "      <td>NaN</td>\n",
       "      <td>NaN</td>\n",
       "      <td>NaN</td>\n",
       "      <td>...</td>\n",
       "      <td>0.00</td>\n",
       "      <td>NaN</td>\n",
       "      <td>preferred</td>\n",
       "      <td>NaN</td>\n",
       "      <td>692.0</td>\n",
       "      <td>A</td>\n",
       "      <td>150000.0</td>\n",
       "      <td>100.0</td>\n",
       "      <td>6485.0</td>\n",
       "      <td>Default</td>\n",
       "    </tr>\n",
       "    <tr>\n",
       "      <th>3</th>\n",
       "      <td>1670</td>\n",
       "      <td>6759</td>\n",
       "      <td>684.0</td>\n",
       "      <td>A</td>\n",
       "      <td>150000.0</td>\n",
       "      <td>100.0</td>\n",
       "      <td>NaN</td>\n",
       "      <td>NaN</td>\n",
       "      <td>NaN</td>\n",
       "      <td>NaN</td>\n",
       "      <td>...</td>\n",
       "      <td>0.00</td>\n",
       "      <td>NaN</td>\n",
       "      <td>preferred</td>\n",
       "      <td>NaN</td>\n",
       "      <td>684.0</td>\n",
       "      <td>A</td>\n",
       "      <td>150000.0</td>\n",
       "      <td>100.0</td>\n",
       "      <td>6035.0</td>\n",
       "      <td>Paid via discounted payoff</td>\n",
       "    </tr>\n",
       "    <tr>\n",
       "      <th>4</th>\n",
       "      <td>1726</td>\n",
       "      <td>5867</td>\n",
       "      <td>625.0</td>\n",
       "      <td>A</td>\n",
       "      <td>150000.0</td>\n",
       "      <td>100.0</td>\n",
       "      <td>NaN</td>\n",
       "      <td>NaN</td>\n",
       "      <td>NaN</td>\n",
       "      <td>NaN</td>\n",
       "      <td>...</td>\n",
       "      <td>0.00</td>\n",
       "      <td>NaN</td>\n",
       "      <td>preferred</td>\n",
       "      <td>NaN</td>\n",
       "      <td>625.0</td>\n",
       "      <td>A</td>\n",
       "      <td>150000.0</td>\n",
       "      <td>100.0</td>\n",
       "      <td>5299.0</td>\n",
       "      <td>Paid in full</td>\n",
       "    </tr>\n",
       "  </tbody>\n",
       "</table>\n",
       "<p>5 rows × 56 columns</p>\n",
       "</div>"
      ],
      "text/plain": [
       "   Unnamed: 0    id  owner_1_score RATE_owner_1  CAP_AMOUNT_owner_1  \\\n",
       "0         900  4813          606.0            A            150000.0   \n",
       "1         329  1406          703.0            A            150000.0   \n",
       "2        1035  7415          692.0            A            150000.0   \n",
       "3        1670  6759          684.0            A            150000.0   \n",
       "4        1726  5867          625.0            A            150000.0   \n",
       "\n",
       "   PERCENT_OWN_owner_1  owner_2_score RATE_owner_2  CAP_AMOUNT_owner_2  \\\n",
       "0                100.0            NaN          NaN                 NaN   \n",
       "1                100.0            NaN          NaN                 NaN   \n",
       "2                100.0            NaN          NaN                 NaN   \n",
       "3                100.0            NaN          NaN                 NaN   \n",
       "4                100.0            NaN          NaN                 NaN   \n",
       "\n",
       "   PERCENT_OWN_owner_2  ...  INPUT_VALUE_ID_FOR_avg_net_deposits  \\\n",
       "0                  NaN  ...                                 0.00   \n",
       "1                  NaN  ...                            107027.25   \n",
       "2                  NaN  ...                                 0.00   \n",
       "3                  NaN  ...                                 0.00   \n",
       "4                  NaN  ...                                 0.00   \n",
       "\n",
       "  RATE_ID_FOR_avg_net_deposits  INPUT_VALUE_ID_FOR_industry_type  \\\n",
       "0                          NaN                         preferred   \n",
       "1                          NaN                         preferred   \n",
       "2                          NaN                         preferred   \n",
       "3                          NaN                         preferred   \n",
       "4                          NaN                         preferred   \n",
       "\n",
       "   RATE_ID_FOR_industry_type  INPUT_VALUE_owner_4 RATE_owner_4  \\\n",
       "0                        NaN                606.0            A   \n",
       "1                        NaN                703.0            A   \n",
       "2                        NaN                692.0            A   \n",
       "3                        NaN                684.0            A   \n",
       "4                        NaN                625.0            A   \n",
       "\n",
       "   CAP_AMOUNT_owner_4 PERCENT_OWN_owner_4 deal_application_thread_id  \\\n",
       "0            150000.0               100.0                     4642.0   \n",
       "1            150000.0               100.0                     1362.0   \n",
       "2            150000.0               100.0                     6485.0   \n",
       "3            150000.0               100.0                     6035.0   \n",
       "4            150000.0               100.0                     5299.0   \n",
       "\n",
       "            completion_status  \n",
       "0       Paid off with renewal  \n",
       "1                Paid in full  \n",
       "2                     Default  \n",
       "3  Paid via discounted payoff  \n",
       "4                Paid in full  \n",
       "\n",
       "[5 rows x 56 columns]"
      ]
     },
     "execution_count": 8,
     "metadata": {},
     "output_type": "execute_result"
    }
   ],
   "source": [
    "dataML.head()"
   ]
  },
  {
   "cell_type": "code",
   "execution_count": 9,
   "metadata": {
    "colab": {
     "base_uri": "https://localhost:8080/"
    },
    "id": "ZDlJGTJyDHMg",
    "outputId": "4c44b24f-16ee-4851-98cf-fe2ce82249f1"
   },
   "outputs": [
    {
     "name": "stdout",
     "output_type": "stream",
     "text": [
      "<class 'pandas.core.frame.DataFrame'>\n",
      "RangeIndex: 1810 entries, 0 to 1809\n",
      "Data columns (total 56 columns):\n",
      " #   Column                                    Non-Null Count  Dtype  \n",
      "---  ------                                    --------------  -----  \n",
      " 0   Unnamed: 0                                1810 non-null   int64  \n",
      " 1   id                                        1810 non-null   int64  \n",
      " 2   owner_1_score                             1786 non-null   float64\n",
      " 3   RATE_owner_1                              1780 non-null   object \n",
      " 4   CAP_AMOUNT_owner_1                        1775 non-null   float64\n",
      " 5   PERCENT_OWN_owner_1                       1793 non-null   float64\n",
      " 6   owner_2_score                             214 non-null    float64\n",
      " 7   RATE_owner_2                              214 non-null    object \n",
      " 8   CAP_AMOUNT_owner_2                        202 non-null    float64\n",
      " 9   PERCENT_OWN_owner_2                       259 non-null    float64\n",
      " 10  owner_3_score                             10 non-null     float64\n",
      " 11  RATE_owner_3                              10 non-null     object \n",
      " 12  CAP_AMOUNT_owner_3                        10 non-null     float64\n",
      " 13  PERCENT_OWN_owner_3                       42 non-null     float64\n",
      " 14  years_in_business                         1794 non-null   float64\n",
      " 15  RATE_ID_FOR_years_in_business             1794 non-null   object \n",
      " 16  fsr                                       1315 non-null   float64\n",
      " 17  RATE_ID_FOR_fsr                           19 non-null     object \n",
      " 18  location                                  1799 non-null   object \n",
      " 19  RATE_ID_FOR_location                      1736 non-null   object \n",
      " 20  funded_last_30                            1810 non-null   object \n",
      " 21  RATE_ID_FOR_funded_last_30                6 non-null      object \n",
      " 22  judgement_lien_percent                    1810 non-null   float64\n",
      " 23  RATE_ID_FOR_judgement_lien_percent        1810 non-null   object \n",
      " 24  INPUT_VALUE_ID_FOR_judgement_lien_amount  1810 non-null   float64\n",
      " 25  RATE_ID_FOR_judgement_lien_amount         1810 non-null   object \n",
      " 26  INPUT_VALUE_ID_FOR_judgement_lien_time    0 non-null      float64\n",
      " 27  RATE_ID_FOR_judgement_lien_time           0 non-null      float64\n",
      " 28  INPUT_VALUE_ID_FOR_num_negative_days      1810 non-null   float64\n",
      " 29  RATE_ID_FOR_num_negative_days             1808 non-null   object \n",
      " 30  INPUT_VALUE_ID_FOR_num_deposits           1810 non-null   float64\n",
      " 31  RATE_ID_FOR_num_deposits                  1810 non-null   object \n",
      " 32  INPUT_VALUE_ID_FOR_monthly_gross          1810 non-null   float64\n",
      " 33  RATE_ID_FOR_monthly_gross                 1810 non-null   object \n",
      " 34  INPUT_VALUE_ID_FOR_average_ledger         1810 non-null   float64\n",
      " 35  RATE_ID_FOR_average_ledger                1810 non-null   object \n",
      " 36  INPUT_VALUE_ID_FOR_fc_margin              1810 non-null   float64\n",
      " 37  RATE_ID_FOR_fc_margin                     1810 non-null   object \n",
      " 38  INPUT_VALUE_ID_FOR_tax_lien_amount        1810 non-null   float64\n",
      " 39  RATE_ID_FOR_tax_lien_amount               1810 non-null   object \n",
      " 40  INPUT_VALUE_ID_FOR_tax_lien_percent       1810 non-null   float64\n",
      " 41  RATE_ID_FOR_tax_lien_percent              1810 non-null   object \n",
      " 42  INPUT_VALUE_ID_FOR_tax_lien_count         1799 non-null   float64\n",
      " 43  RATE_ID_FOR_tax_lien_count                1799 non-null   object \n",
      " 44  INPUT_VALUE_ID_FOR_current_position       1796 non-null   float64\n",
      " 45  RATE_ID_FOR_current_position              1796 non-null   object \n",
      " 46  INPUT_VALUE_ID_FOR_avg_net_deposits       1803 non-null   float64\n",
      " 47  RATE_ID_FOR_avg_net_deposits              0 non-null      float64\n",
      " 48  INPUT_VALUE_ID_FOR_industry_type          1780 non-null   object \n",
      " 49  RATE_ID_FOR_industry_type                 0 non-null      float64\n",
      " 50  INPUT_VALUE_owner_4                       1777 non-null   float64\n",
      " 51  RATE_owner_4                              1731 non-null   object \n",
      " 52  CAP_AMOUNT_owner_4                        1714 non-null   float64\n",
      " 53  PERCENT_OWN_owner_4                       1755 non-null   float64\n",
      " 54  deal_application_thread_id                1810 non-null   float64\n",
      " 55  completion_status                         1810 non-null   object \n",
      "dtypes: float64(31), int64(2), object(23)\n",
      "memory usage: 792.0+ KB\n"
     ]
    }
   ],
   "source": [
    "dataML.info()"
   ]
  },
  {
   "cell_type": "code",
   "execution_count": 10,
   "metadata": {
    "colab": {
     "base_uri": "https://localhost:8080/",
     "height": 162
    },
    "id": "JNDlKTibDROi",
    "outputId": "ac1f8071-0868-4bd9-d1dc-a5031dffdd2d"
   },
   "outputs": [
    {
     "data": {
      "text/html": [
       "<div>\n",
       "<style scoped>\n",
       "    .dataframe tbody tr th:only-of-type {\n",
       "        vertical-align: middle;\n",
       "    }\n",
       "\n",
       "    .dataframe tbody tr th {\n",
       "        vertical-align: top;\n",
       "    }\n",
       "\n",
       "    .dataframe thead th {\n",
       "        text-align: right;\n",
       "    }\n",
       "</style>\n",
       "<table border=\"1\" class=\"dataframe\">\n",
       "  <thead>\n",
       "    <tr style=\"text-align: right;\">\n",
       "      <th></th>\n",
       "      <th>Unnamed: 0</th>\n",
       "      <th>id</th>\n",
       "      <th>owner_1_score</th>\n",
       "      <th>RATE_owner_1</th>\n",
       "      <th>CAP_AMOUNT_owner_1</th>\n",
       "      <th>PERCENT_OWN_owner_1</th>\n",
       "      <th>owner_2_score</th>\n",
       "      <th>RATE_owner_2</th>\n",
       "      <th>CAP_AMOUNT_owner_2</th>\n",
       "      <th>PERCENT_OWN_owner_2</th>\n",
       "      <th>owner_3_score</th>\n",
       "      <th>RATE_owner_3</th>\n",
       "      <th>CAP_AMOUNT_owner_3</th>\n",
       "      <th>PERCENT_OWN_owner_3</th>\n",
       "      <th>years_in_business</th>\n",
       "      <th>RATE_ID_FOR_years_in_business</th>\n",
       "      <th>fsr</th>\n",
       "      <th>RATE_ID_FOR_fsr</th>\n",
       "      <th>location</th>\n",
       "      <th>RATE_ID_FOR_location</th>\n",
       "      <th>funded_last_30</th>\n",
       "      <th>RATE_ID_FOR_funded_last_30</th>\n",
       "      <th>judgement_lien_percent</th>\n",
       "      <th>RATE_ID_FOR_judgement_lien_percent</th>\n",
       "      <th>INPUT_VALUE_ID_FOR_judgement_lien_amount</th>\n",
       "      <th>RATE_ID_FOR_judgement_lien_amount</th>\n",
       "      <th>INPUT_VALUE_ID_FOR_judgement_lien_time</th>\n",
       "      <th>RATE_ID_FOR_judgement_lien_time</th>\n",
       "      <th>INPUT_VALUE_ID_FOR_num_negative_days</th>\n",
       "      <th>RATE_ID_FOR_num_negative_days</th>\n",
       "      <th>INPUT_VALUE_ID_FOR_num_deposits</th>\n",
       "      <th>RATE_ID_FOR_num_deposits</th>\n",
       "      <th>INPUT_VALUE_ID_FOR_monthly_gross</th>\n",
       "      <th>RATE_ID_FOR_monthly_gross</th>\n",
       "      <th>INPUT_VALUE_ID_FOR_average_ledger</th>\n",
       "      <th>RATE_ID_FOR_average_ledger</th>\n",
       "      <th>INPUT_VALUE_ID_FOR_fc_margin</th>\n",
       "      <th>RATE_ID_FOR_fc_margin</th>\n",
       "      <th>INPUT_VALUE_ID_FOR_tax_lien_amount</th>\n",
       "      <th>RATE_ID_FOR_tax_lien_amount</th>\n",
       "      <th>INPUT_VALUE_ID_FOR_tax_lien_percent</th>\n",
       "      <th>RATE_ID_FOR_tax_lien_percent</th>\n",
       "      <th>INPUT_VALUE_ID_FOR_tax_lien_count</th>\n",
       "      <th>RATE_ID_FOR_tax_lien_count</th>\n",
       "      <th>INPUT_VALUE_ID_FOR_current_position</th>\n",
       "      <th>RATE_ID_FOR_current_position</th>\n",
       "      <th>INPUT_VALUE_ID_FOR_avg_net_deposits</th>\n",
       "      <th>RATE_ID_FOR_avg_net_deposits</th>\n",
       "      <th>INPUT_VALUE_ID_FOR_industry_type</th>\n",
       "      <th>RATE_ID_FOR_industry_type</th>\n",
       "      <th>INPUT_VALUE_owner_4</th>\n",
       "      <th>RATE_owner_4</th>\n",
       "      <th>CAP_AMOUNT_owner_4</th>\n",
       "      <th>PERCENT_OWN_owner_4</th>\n",
       "      <th>deal_application_thread_id</th>\n",
       "      <th>completion_status</th>\n",
       "    </tr>\n",
       "  </thead>\n",
       "  <tbody>\n",
       "    <tr>\n",
       "      <th>Percentage</th>\n",
       "      <td>0.0</td>\n",
       "      <td>0.0</td>\n",
       "      <td>1.325967</td>\n",
       "      <td>1.657459</td>\n",
       "      <td>1.933702</td>\n",
       "      <td>0.939227</td>\n",
       "      <td>88.176796</td>\n",
       "      <td>88.176796</td>\n",
       "      <td>88.839779</td>\n",
       "      <td>85.690608</td>\n",
       "      <td>99.447514</td>\n",
       "      <td>99.447514</td>\n",
       "      <td>99.447514</td>\n",
       "      <td>97.679558</td>\n",
       "      <td>0.883978</td>\n",
       "      <td>0.883978</td>\n",
       "      <td>27.348066</td>\n",
       "      <td>98.950276</td>\n",
       "      <td>0.607735</td>\n",
       "      <td>4.088398</td>\n",
       "      <td>0.0</td>\n",
       "      <td>99.668508</td>\n",
       "      <td>0.0</td>\n",
       "      <td>0.0</td>\n",
       "      <td>0.0</td>\n",
       "      <td>0.0</td>\n",
       "      <td>100.0</td>\n",
       "      <td>100.0</td>\n",
       "      <td>0.0</td>\n",
       "      <td>0.110497</td>\n",
       "      <td>0.0</td>\n",
       "      <td>0.0</td>\n",
       "      <td>0.0</td>\n",
       "      <td>0.0</td>\n",
       "      <td>0.0</td>\n",
       "      <td>0.0</td>\n",
       "      <td>0.0</td>\n",
       "      <td>0.0</td>\n",
       "      <td>0.0</td>\n",
       "      <td>0.0</td>\n",
       "      <td>0.0</td>\n",
       "      <td>0.0</td>\n",
       "      <td>0.607735</td>\n",
       "      <td>0.607735</td>\n",
       "      <td>0.773481</td>\n",
       "      <td>0.773481</td>\n",
       "      <td>0.38674</td>\n",
       "      <td>100.0</td>\n",
       "      <td>1.657459</td>\n",
       "      <td>100.0</td>\n",
       "      <td>1.823204</td>\n",
       "      <td>4.364641</td>\n",
       "      <td>5.303867</td>\n",
       "      <td>3.038674</td>\n",
       "      <td>0.0</td>\n",
       "      <td>0.0</td>\n",
       "    </tr>\n",
       "  </tbody>\n",
       "</table>\n",
       "</div>"
      ],
      "text/plain": [
       "            Unnamed: 0   id  owner_1_score  RATE_owner_1  CAP_AMOUNT_owner_1  \\\n",
       "Percentage         0.0  0.0       1.325967      1.657459            1.933702   \n",
       "\n",
       "            PERCENT_OWN_owner_1  owner_2_score  RATE_owner_2  \\\n",
       "Percentage             0.939227      88.176796     88.176796   \n",
       "\n",
       "            CAP_AMOUNT_owner_2  PERCENT_OWN_owner_2  owner_3_score  \\\n",
       "Percentage           88.839779            85.690608      99.447514   \n",
       "\n",
       "            RATE_owner_3  CAP_AMOUNT_owner_3  PERCENT_OWN_owner_3  \\\n",
       "Percentage     99.447514           99.447514            97.679558   \n",
       "\n",
       "            years_in_business  RATE_ID_FOR_years_in_business        fsr  \\\n",
       "Percentage           0.883978                       0.883978  27.348066   \n",
       "\n",
       "            RATE_ID_FOR_fsr  location  RATE_ID_FOR_location  funded_last_30  \\\n",
       "Percentage        98.950276  0.607735              4.088398             0.0   \n",
       "\n",
       "            RATE_ID_FOR_funded_last_30  judgement_lien_percent  \\\n",
       "Percentage                   99.668508                     0.0   \n",
       "\n",
       "            RATE_ID_FOR_judgement_lien_percent  \\\n",
       "Percentage                                 0.0   \n",
       "\n",
       "            INPUT_VALUE_ID_FOR_judgement_lien_amount  \\\n",
       "Percentage                                       0.0   \n",
       "\n",
       "            RATE_ID_FOR_judgement_lien_amount  \\\n",
       "Percentage                                0.0   \n",
       "\n",
       "            INPUT_VALUE_ID_FOR_judgement_lien_time  \\\n",
       "Percentage                                   100.0   \n",
       "\n",
       "            RATE_ID_FOR_judgement_lien_time  \\\n",
       "Percentage                            100.0   \n",
       "\n",
       "            INPUT_VALUE_ID_FOR_num_negative_days  \\\n",
       "Percentage                                   0.0   \n",
       "\n",
       "            RATE_ID_FOR_num_negative_days  INPUT_VALUE_ID_FOR_num_deposits  \\\n",
       "Percentage                       0.110497                              0.0   \n",
       "\n",
       "            RATE_ID_FOR_num_deposits  INPUT_VALUE_ID_FOR_monthly_gross  \\\n",
       "Percentage                       0.0                               0.0   \n",
       "\n",
       "            RATE_ID_FOR_monthly_gross  INPUT_VALUE_ID_FOR_average_ledger  \\\n",
       "Percentage                        0.0                                0.0   \n",
       "\n",
       "            RATE_ID_FOR_average_ledger  INPUT_VALUE_ID_FOR_fc_margin  \\\n",
       "Percentage                         0.0                           0.0   \n",
       "\n",
       "            RATE_ID_FOR_fc_margin  INPUT_VALUE_ID_FOR_tax_lien_amount  \\\n",
       "Percentage                    0.0                                 0.0   \n",
       "\n",
       "            RATE_ID_FOR_tax_lien_amount  INPUT_VALUE_ID_FOR_tax_lien_percent  \\\n",
       "Percentage                          0.0                                  0.0   \n",
       "\n",
       "            RATE_ID_FOR_tax_lien_percent  INPUT_VALUE_ID_FOR_tax_lien_count  \\\n",
       "Percentage                           0.0                           0.607735   \n",
       "\n",
       "            RATE_ID_FOR_tax_lien_count  INPUT_VALUE_ID_FOR_current_position  \\\n",
       "Percentage                    0.607735                             0.773481   \n",
       "\n",
       "            RATE_ID_FOR_current_position  INPUT_VALUE_ID_FOR_avg_net_deposits  \\\n",
       "Percentage                      0.773481                              0.38674   \n",
       "\n",
       "            RATE_ID_FOR_avg_net_deposits  INPUT_VALUE_ID_FOR_industry_type  \\\n",
       "Percentage                         100.0                          1.657459   \n",
       "\n",
       "            RATE_ID_FOR_industry_type  INPUT_VALUE_owner_4  RATE_owner_4  \\\n",
       "Percentage                      100.0             1.823204      4.364641   \n",
       "\n",
       "            CAP_AMOUNT_owner_4  PERCENT_OWN_owner_4  \\\n",
       "Percentage            5.303867             3.038674   \n",
       "\n",
       "            deal_application_thread_id  completion_status  \n",
       "Percentage                         0.0                0.0  "
      ]
     },
     "execution_count": 10,
     "metadata": {},
     "output_type": "execute_result"
    }
   ],
   "source": [
    "# Calculate the percentage of missing values in df_read\n",
    "percentage_missing = dataML.isnull().sum() / len(dataML) * 100\n",
    "\n",
    "# Create a new DataFrame with columns from df and index set to None\n",
    "new_df = pd.DataFrame(columns=dataML.columns, index=None)\n",
    "pd.set_option('display.max_columns', None)\n",
    "\n",
    "# Creating new Percentage index\n",
    "new_df.loc['Percentage'] = percentage_missing.values\n",
    "new_df"
   ]
  },
  {
   "cell_type": "code",
   "execution_count": 11,
   "metadata": {
    "colab": {
     "base_uri": "https://localhost:8080/"
    },
    "id": "cn1ypwCZDhSD",
    "outputId": "b25b3cfc-47a6-4b64-adce-7fc74a40d253"
   },
   "outputs": [
    {
     "name": "stdout",
     "output_type": "stream",
     "text": [
      "Total features before: 56\n",
      "Total features now: 15\n"
     ]
    }
   ],
   "source": [
    "features_to_keep = dataML.columns[((dataML.isnull().sum()/len(dataML))*100 > 20)].to_list()\n",
    "print(\"Total features before:\",len(dataML.columns))\n",
    "print(\"Total features now:\",len(features_to_keep))"
   ]
  },
  {
   "cell_type": "code",
   "execution_count": 12,
   "metadata": {
    "colab": {
     "base_uri": "https://localhost:8080/"
    },
    "id": "ZEzUi1PUDvTw",
    "outputId": "8fac6e0d-7bdf-4e1e-9c0a-3679a74f8523"
   },
   "outputs": [
    {
     "data": {
      "text/plain": [
       "(1810, 15)"
      ]
     },
     "execution_count": 12,
     "metadata": {},
     "output_type": "execute_result"
    }
   ],
   "source": [
    "df1=dataML[features_to_keep]\n",
    "df1.shape"
   ]
  },
  {
   "cell_type": "code",
   "execution_count": 13,
   "metadata": {
    "colab": {
     "base_uri": "https://localhost:8080/",
     "height": 305
    },
    "id": "gBkrBPfpEBTn",
    "outputId": "87fd9497-1103-4d80-81d8-92c89175e083"
   },
   "outputs": [
    {
     "data": {
      "text/html": [
       "<div>\n",
       "<style scoped>\n",
       "    .dataframe tbody tr th:only-of-type {\n",
       "        vertical-align: middle;\n",
       "    }\n",
       "\n",
       "    .dataframe tbody tr th {\n",
       "        vertical-align: top;\n",
       "    }\n",
       "\n",
       "    .dataframe thead th {\n",
       "        text-align: right;\n",
       "    }\n",
       "</style>\n",
       "<table border=\"1\" class=\"dataframe\">\n",
       "  <thead>\n",
       "    <tr style=\"text-align: right;\">\n",
       "      <th></th>\n",
       "      <th>owner_2_score</th>\n",
       "      <th>RATE_owner_2</th>\n",
       "      <th>CAP_AMOUNT_owner_2</th>\n",
       "      <th>PERCENT_OWN_owner_2</th>\n",
       "      <th>owner_3_score</th>\n",
       "      <th>RATE_owner_3</th>\n",
       "      <th>CAP_AMOUNT_owner_3</th>\n",
       "      <th>PERCENT_OWN_owner_3</th>\n",
       "      <th>fsr</th>\n",
       "      <th>RATE_ID_FOR_fsr</th>\n",
       "      <th>RATE_ID_FOR_funded_last_30</th>\n",
       "      <th>INPUT_VALUE_ID_FOR_judgement_lien_time</th>\n",
       "      <th>RATE_ID_FOR_judgement_lien_time</th>\n",
       "      <th>RATE_ID_FOR_avg_net_deposits</th>\n",
       "      <th>RATE_ID_FOR_industry_type</th>\n",
       "    </tr>\n",
       "  </thead>\n",
       "  <tbody>\n",
       "    <tr>\n",
       "      <th>0</th>\n",
       "      <td>NaN</td>\n",
       "      <td>NaN</td>\n",
       "      <td>NaN</td>\n",
       "      <td>NaN</td>\n",
       "      <td>NaN</td>\n",
       "      <td>NaN</td>\n",
       "      <td>NaN</td>\n",
       "      <td>NaN</td>\n",
       "      <td>NaN</td>\n",
       "      <td>NaN</td>\n",
       "      <td>NaN</td>\n",
       "      <td>NaN</td>\n",
       "      <td>NaN</td>\n",
       "      <td>NaN</td>\n",
       "      <td>NaN</td>\n",
       "    </tr>\n",
       "    <tr>\n",
       "      <th>1</th>\n",
       "      <td>NaN</td>\n",
       "      <td>NaN</td>\n",
       "      <td>NaN</td>\n",
       "      <td>NaN</td>\n",
       "      <td>NaN</td>\n",
       "      <td>NaN</td>\n",
       "      <td>NaN</td>\n",
       "      <td>NaN</td>\n",
       "      <td>73.0</td>\n",
       "      <td>NaN</td>\n",
       "      <td>NaN</td>\n",
       "      <td>NaN</td>\n",
       "      <td>NaN</td>\n",
       "      <td>NaN</td>\n",
       "      <td>NaN</td>\n",
       "    </tr>\n",
       "    <tr>\n",
       "      <th>2</th>\n",
       "      <td>NaN</td>\n",
       "      <td>NaN</td>\n",
       "      <td>NaN</td>\n",
       "      <td>NaN</td>\n",
       "      <td>NaN</td>\n",
       "      <td>NaN</td>\n",
       "      <td>NaN</td>\n",
       "      <td>NaN</td>\n",
       "      <td>19.0</td>\n",
       "      <td>NaN</td>\n",
       "      <td>NaN</td>\n",
       "      <td>NaN</td>\n",
       "      <td>NaN</td>\n",
       "      <td>NaN</td>\n",
       "      <td>NaN</td>\n",
       "    </tr>\n",
       "    <tr>\n",
       "      <th>3</th>\n",
       "      <td>NaN</td>\n",
       "      <td>NaN</td>\n",
       "      <td>NaN</td>\n",
       "      <td>NaN</td>\n",
       "      <td>NaN</td>\n",
       "      <td>NaN</td>\n",
       "      <td>NaN</td>\n",
       "      <td>NaN</td>\n",
       "      <td>NaN</td>\n",
       "      <td>NaN</td>\n",
       "      <td>NaN</td>\n",
       "      <td>NaN</td>\n",
       "      <td>NaN</td>\n",
       "      <td>NaN</td>\n",
       "      <td>NaN</td>\n",
       "    </tr>\n",
       "    <tr>\n",
       "      <th>4</th>\n",
       "      <td>NaN</td>\n",
       "      <td>NaN</td>\n",
       "      <td>NaN</td>\n",
       "      <td>NaN</td>\n",
       "      <td>NaN</td>\n",
       "      <td>NaN</td>\n",
       "      <td>NaN</td>\n",
       "      <td>NaN</td>\n",
       "      <td>NaN</td>\n",
       "      <td>NaN</td>\n",
       "      <td>NaN</td>\n",
       "      <td>NaN</td>\n",
       "      <td>NaN</td>\n",
       "      <td>NaN</td>\n",
       "      <td>NaN</td>\n",
       "    </tr>\n",
       "  </tbody>\n",
       "</table>\n",
       "</div>"
      ],
      "text/plain": [
       "   owner_2_score RATE_owner_2  CAP_AMOUNT_owner_2  PERCENT_OWN_owner_2  \\\n",
       "0            NaN          NaN                 NaN                  NaN   \n",
       "1            NaN          NaN                 NaN                  NaN   \n",
       "2            NaN          NaN                 NaN                  NaN   \n",
       "3            NaN          NaN                 NaN                  NaN   \n",
       "4            NaN          NaN                 NaN                  NaN   \n",
       "\n",
       "   owner_3_score RATE_owner_3  CAP_AMOUNT_owner_3  PERCENT_OWN_owner_3   fsr  \\\n",
       "0            NaN          NaN                 NaN                  NaN   NaN   \n",
       "1            NaN          NaN                 NaN                  NaN  73.0   \n",
       "2            NaN          NaN                 NaN                  NaN  19.0   \n",
       "3            NaN          NaN                 NaN                  NaN   NaN   \n",
       "4            NaN          NaN                 NaN                  NaN   NaN   \n",
       "\n",
       "  RATE_ID_FOR_fsr RATE_ID_FOR_funded_last_30  \\\n",
       "0             NaN                        NaN   \n",
       "1             NaN                        NaN   \n",
       "2             NaN                        NaN   \n",
       "3             NaN                        NaN   \n",
       "4             NaN                        NaN   \n",
       "\n",
       "   INPUT_VALUE_ID_FOR_judgement_lien_time  RATE_ID_FOR_judgement_lien_time  \\\n",
       "0                                     NaN                              NaN   \n",
       "1                                     NaN                              NaN   \n",
       "2                                     NaN                              NaN   \n",
       "3                                     NaN                              NaN   \n",
       "4                                     NaN                              NaN   \n",
       "\n",
       "   RATE_ID_FOR_avg_net_deposits  RATE_ID_FOR_industry_type  \n",
       "0                           NaN                        NaN  \n",
       "1                           NaN                        NaN  \n",
       "2                           NaN                        NaN  \n",
       "3                           NaN                        NaN  \n",
       "4                           NaN                        NaN  "
      ]
     },
     "execution_count": 13,
     "metadata": {},
     "output_type": "execute_result"
    }
   ],
   "source": [
    "df1.head()"
   ]
  },
  {
   "cell_type": "code",
   "execution_count": 14,
   "metadata": {
    "colab": {
     "base_uri": "https://localhost:8080/"
    },
    "id": "VB94VbgdEVZI",
    "outputId": "06f539f3-5eaa-4892-94b5-04a97a9c88a2"
   },
   "outputs": [
    {
     "data": {
      "text/plain": [
       "Index(['owner_2_score', 'RATE_owner_2', 'CAP_AMOUNT_owner_2',\n",
       "       'PERCENT_OWN_owner_2', 'owner_3_score', 'RATE_owner_3',\n",
       "       'CAP_AMOUNT_owner_3', 'PERCENT_OWN_owner_3', 'fsr', 'RATE_ID_FOR_fsr',\n",
       "       'RATE_ID_FOR_funded_last_30', 'INPUT_VALUE_ID_FOR_judgement_lien_time',\n",
       "       'RATE_ID_FOR_judgement_lien_time', 'RATE_ID_FOR_avg_net_deposits',\n",
       "       'RATE_ID_FOR_industry_type'],\n",
       "      dtype='object')"
      ]
     },
     "execution_count": 14,
     "metadata": {},
     "output_type": "execute_result"
    }
   ],
   "source": [
    "df1.columns"
   ]
  },
  {
   "cell_type": "code",
   "execution_count": null,
   "metadata": {
    "id": "4ZrM0RNLFAbk"
   },
   "outputs": [],
   "source": [
    "df1.drop('Unnamed: 0', inplace=True, axis=1)"
   ]
  },
  {
   "cell_type": "code",
   "execution_count": 17,
   "metadata": {},
   "outputs": [
    {
     "ename": "KeyError",
     "evalue": "\"['id'] not found in axis\"",
     "output_type": "error",
     "traceback": [
      "\u001b[1;31m---------------------------------------------------------------------------\u001b[0m",
      "\u001b[1;31mKeyError\u001b[0m                                  Traceback (most recent call last)",
      "Input \u001b[1;32mIn [17]\u001b[0m, in \u001b[0;36m<cell line: 1>\u001b[1;34m()\u001b[0m\n\u001b[1;32m----> 1\u001b[0m \u001b[43mdf1\u001b[49m\u001b[38;5;241;43m.\u001b[39;49m\u001b[43mdrop\u001b[49m\u001b[43m(\u001b[49m\u001b[38;5;124;43m'\u001b[39;49m\u001b[38;5;124;43mid\u001b[39;49m\u001b[38;5;124;43m'\u001b[39;49m\u001b[43m,\u001b[49m\u001b[43m \u001b[49m\u001b[43minplace\u001b[49m\u001b[38;5;241;43m=\u001b[39;49m\u001b[38;5;28;43;01mTrue\u001b[39;49;00m\u001b[43m,\u001b[49m\u001b[43m \u001b[49m\u001b[43maxis\u001b[49m\u001b[38;5;241;43m=\u001b[39;49m\u001b[38;5;241;43m1\u001b[39;49m\u001b[43m)\u001b[49m\n",
      "File \u001b[1;32mC:\\ProgramData\\Anaconda3\\lib\\site-packages\\pandas\\util\\_decorators.py:311\u001b[0m, in \u001b[0;36mdeprecate_nonkeyword_arguments.<locals>.decorate.<locals>.wrapper\u001b[1;34m(*args, **kwargs)\u001b[0m\n\u001b[0;32m    305\u001b[0m \u001b[38;5;28;01mif\u001b[39;00m \u001b[38;5;28mlen\u001b[39m(args) \u001b[38;5;241m>\u001b[39m num_allow_args:\n\u001b[0;32m    306\u001b[0m     warnings\u001b[38;5;241m.\u001b[39mwarn(\n\u001b[0;32m    307\u001b[0m         msg\u001b[38;5;241m.\u001b[39mformat(arguments\u001b[38;5;241m=\u001b[39marguments),\n\u001b[0;32m    308\u001b[0m         \u001b[38;5;167;01mFutureWarning\u001b[39;00m,\n\u001b[0;32m    309\u001b[0m         stacklevel\u001b[38;5;241m=\u001b[39mstacklevel,\n\u001b[0;32m    310\u001b[0m     )\n\u001b[1;32m--> 311\u001b[0m \u001b[38;5;28;01mreturn\u001b[39;00m func(\u001b[38;5;241m*\u001b[39margs, \u001b[38;5;241m*\u001b[39m\u001b[38;5;241m*\u001b[39mkwargs)\n",
      "File \u001b[1;32mC:\\ProgramData\\Anaconda3\\lib\\site-packages\\pandas\\core\\frame.py:4954\u001b[0m, in \u001b[0;36mDataFrame.drop\u001b[1;34m(self, labels, axis, index, columns, level, inplace, errors)\u001b[0m\n\u001b[0;32m   4806\u001b[0m \u001b[38;5;129m@deprecate_nonkeyword_arguments\u001b[39m(version\u001b[38;5;241m=\u001b[39m\u001b[38;5;28;01mNone\u001b[39;00m, allowed_args\u001b[38;5;241m=\u001b[39m[\u001b[38;5;124m\"\u001b[39m\u001b[38;5;124mself\u001b[39m\u001b[38;5;124m\"\u001b[39m, \u001b[38;5;124m\"\u001b[39m\u001b[38;5;124mlabels\u001b[39m\u001b[38;5;124m\"\u001b[39m])\n\u001b[0;32m   4807\u001b[0m \u001b[38;5;28;01mdef\u001b[39;00m \u001b[38;5;21mdrop\u001b[39m(\n\u001b[0;32m   4808\u001b[0m     \u001b[38;5;28mself\u001b[39m,\n\u001b[1;32m   (...)\u001b[0m\n\u001b[0;32m   4815\u001b[0m     errors: \u001b[38;5;28mstr\u001b[39m \u001b[38;5;241m=\u001b[39m \u001b[38;5;124m\"\u001b[39m\u001b[38;5;124mraise\u001b[39m\u001b[38;5;124m\"\u001b[39m,\n\u001b[0;32m   4816\u001b[0m ):\n\u001b[0;32m   4817\u001b[0m \u001b[38;5;250m    \u001b[39m\u001b[38;5;124;03m\"\"\"\u001b[39;00m\n\u001b[0;32m   4818\u001b[0m \u001b[38;5;124;03m    Drop specified labels from rows or columns.\u001b[39;00m\n\u001b[0;32m   4819\u001b[0m \n\u001b[1;32m   (...)\u001b[0m\n\u001b[0;32m   4952\u001b[0m \u001b[38;5;124;03m            weight  1.0     0.8\u001b[39;00m\n\u001b[0;32m   4953\u001b[0m \u001b[38;5;124;03m    \"\"\"\u001b[39;00m\n\u001b[1;32m-> 4954\u001b[0m     \u001b[38;5;28;01mreturn\u001b[39;00m \u001b[38;5;28;43msuper\u001b[39;49m\u001b[43m(\u001b[49m\u001b[43m)\u001b[49m\u001b[38;5;241;43m.\u001b[39;49m\u001b[43mdrop\u001b[49m\u001b[43m(\u001b[49m\n\u001b[0;32m   4955\u001b[0m \u001b[43m        \u001b[49m\u001b[43mlabels\u001b[49m\u001b[38;5;241;43m=\u001b[39;49m\u001b[43mlabels\u001b[49m\u001b[43m,\u001b[49m\n\u001b[0;32m   4956\u001b[0m \u001b[43m        \u001b[49m\u001b[43maxis\u001b[49m\u001b[38;5;241;43m=\u001b[39;49m\u001b[43maxis\u001b[49m\u001b[43m,\u001b[49m\n\u001b[0;32m   4957\u001b[0m \u001b[43m        \u001b[49m\u001b[43mindex\u001b[49m\u001b[38;5;241;43m=\u001b[39;49m\u001b[43mindex\u001b[49m\u001b[43m,\u001b[49m\n\u001b[0;32m   4958\u001b[0m \u001b[43m        \u001b[49m\u001b[43mcolumns\u001b[49m\u001b[38;5;241;43m=\u001b[39;49m\u001b[43mcolumns\u001b[49m\u001b[43m,\u001b[49m\n\u001b[0;32m   4959\u001b[0m \u001b[43m        \u001b[49m\u001b[43mlevel\u001b[49m\u001b[38;5;241;43m=\u001b[39;49m\u001b[43mlevel\u001b[49m\u001b[43m,\u001b[49m\n\u001b[0;32m   4960\u001b[0m \u001b[43m        \u001b[49m\u001b[43minplace\u001b[49m\u001b[38;5;241;43m=\u001b[39;49m\u001b[43minplace\u001b[49m\u001b[43m,\u001b[49m\n\u001b[0;32m   4961\u001b[0m \u001b[43m        \u001b[49m\u001b[43merrors\u001b[49m\u001b[38;5;241;43m=\u001b[39;49m\u001b[43merrors\u001b[49m\u001b[43m,\u001b[49m\n\u001b[0;32m   4962\u001b[0m \u001b[43m    \u001b[49m\u001b[43m)\u001b[49m\n",
      "File \u001b[1;32mC:\\ProgramData\\Anaconda3\\lib\\site-packages\\pandas\\core\\generic.py:4267\u001b[0m, in \u001b[0;36mNDFrame.drop\u001b[1;34m(self, labels, axis, index, columns, level, inplace, errors)\u001b[0m\n\u001b[0;32m   4265\u001b[0m \u001b[38;5;28;01mfor\u001b[39;00m axis, labels \u001b[38;5;129;01min\u001b[39;00m axes\u001b[38;5;241m.\u001b[39mitems():\n\u001b[0;32m   4266\u001b[0m     \u001b[38;5;28;01mif\u001b[39;00m labels \u001b[38;5;129;01mis\u001b[39;00m \u001b[38;5;129;01mnot\u001b[39;00m \u001b[38;5;28;01mNone\u001b[39;00m:\n\u001b[1;32m-> 4267\u001b[0m         obj \u001b[38;5;241m=\u001b[39m \u001b[43mobj\u001b[49m\u001b[38;5;241;43m.\u001b[39;49m\u001b[43m_drop_axis\u001b[49m\u001b[43m(\u001b[49m\u001b[43mlabels\u001b[49m\u001b[43m,\u001b[49m\u001b[43m \u001b[49m\u001b[43maxis\u001b[49m\u001b[43m,\u001b[49m\u001b[43m \u001b[49m\u001b[43mlevel\u001b[49m\u001b[38;5;241;43m=\u001b[39;49m\u001b[43mlevel\u001b[49m\u001b[43m,\u001b[49m\u001b[43m \u001b[49m\u001b[43merrors\u001b[49m\u001b[38;5;241;43m=\u001b[39;49m\u001b[43merrors\u001b[49m\u001b[43m)\u001b[49m\n\u001b[0;32m   4269\u001b[0m \u001b[38;5;28;01mif\u001b[39;00m inplace:\n\u001b[0;32m   4270\u001b[0m     \u001b[38;5;28mself\u001b[39m\u001b[38;5;241m.\u001b[39m_update_inplace(obj)\n",
      "File \u001b[1;32mC:\\ProgramData\\Anaconda3\\lib\\site-packages\\pandas\\core\\generic.py:4311\u001b[0m, in \u001b[0;36mNDFrame._drop_axis\u001b[1;34m(self, labels, axis, level, errors, consolidate, only_slice)\u001b[0m\n\u001b[0;32m   4309\u001b[0m         new_axis \u001b[38;5;241m=\u001b[39m axis\u001b[38;5;241m.\u001b[39mdrop(labels, level\u001b[38;5;241m=\u001b[39mlevel, errors\u001b[38;5;241m=\u001b[39merrors)\n\u001b[0;32m   4310\u001b[0m     \u001b[38;5;28;01melse\u001b[39;00m:\n\u001b[1;32m-> 4311\u001b[0m         new_axis \u001b[38;5;241m=\u001b[39m \u001b[43maxis\u001b[49m\u001b[38;5;241;43m.\u001b[39;49m\u001b[43mdrop\u001b[49m\u001b[43m(\u001b[49m\u001b[43mlabels\u001b[49m\u001b[43m,\u001b[49m\u001b[43m \u001b[49m\u001b[43merrors\u001b[49m\u001b[38;5;241;43m=\u001b[39;49m\u001b[43merrors\u001b[49m\u001b[43m)\u001b[49m\n\u001b[0;32m   4312\u001b[0m     indexer \u001b[38;5;241m=\u001b[39m axis\u001b[38;5;241m.\u001b[39mget_indexer(new_axis)\n\u001b[0;32m   4314\u001b[0m \u001b[38;5;66;03m# Case for non-unique axis\u001b[39;00m\n\u001b[0;32m   4315\u001b[0m \u001b[38;5;28;01melse\u001b[39;00m:\n",
      "File \u001b[1;32mC:\\ProgramData\\Anaconda3\\lib\\site-packages\\pandas\\core\\indexes\\base.py:6644\u001b[0m, in \u001b[0;36mIndex.drop\u001b[1;34m(self, labels, errors)\u001b[0m\n\u001b[0;32m   6642\u001b[0m \u001b[38;5;28;01mif\u001b[39;00m mask\u001b[38;5;241m.\u001b[39many():\n\u001b[0;32m   6643\u001b[0m     \u001b[38;5;28;01mif\u001b[39;00m errors \u001b[38;5;241m!=\u001b[39m \u001b[38;5;124m\"\u001b[39m\u001b[38;5;124mignore\u001b[39m\u001b[38;5;124m\"\u001b[39m:\n\u001b[1;32m-> 6644\u001b[0m         \u001b[38;5;28;01mraise\u001b[39;00m \u001b[38;5;167;01mKeyError\u001b[39;00m(\u001b[38;5;124mf\u001b[39m\u001b[38;5;124m\"\u001b[39m\u001b[38;5;132;01m{\u001b[39;00m\u001b[38;5;28mlist\u001b[39m(labels[mask])\u001b[38;5;132;01m}\u001b[39;00m\u001b[38;5;124m not found in axis\u001b[39m\u001b[38;5;124m\"\u001b[39m)\n\u001b[0;32m   6645\u001b[0m     indexer \u001b[38;5;241m=\u001b[39m indexer[\u001b[38;5;241m~\u001b[39mmask]\n\u001b[0;32m   6646\u001b[0m \u001b[38;5;28;01mreturn\u001b[39;00m \u001b[38;5;28mself\u001b[39m\u001b[38;5;241m.\u001b[39mdelete(indexer)\n",
      "\u001b[1;31mKeyError\u001b[0m: \"['id'] not found in axis\""
     ]
    }
   ],
   "source": [
    "df1.drop('id', inplace=True, axis=1)"
   ]
  },
  {
   "cell_type": "code",
   "execution_count": null,
   "metadata": {
    "colab": {
     "base_uri": "https://localhost:8080/",
     "height": 505
    },
    "id": "CgsTkrpHF4AS",
    "outputId": "a36220bc-7c56-4819-be7b-06df16e12022"
   },
   "outputs": [],
   "source": [
    "df1"
   ]
  },
  {
   "cell_type": "code",
   "execution_count": null,
   "metadata": {
    "colab": {
     "base_uri": "https://localhost:8080/"
    },
    "id": "Iyr3b4OmXL25",
    "outputId": "becb9c45-62d1-40b9-b0e7-a180b3a69787"
   },
   "outputs": [],
   "source": [
    "df1['location'].unique()"
   ]
  },
  {
   "cell_type": "code",
   "execution_count": null,
   "metadata": {
    "id": "7T_sfP6WF6Rq"
   },
   "outputs": [],
   "source": [
    "#df1.drop('RATE_owner_4', inplace=True, axis=1)\n",
    "#df1.drop('CAP_AMOUNT_owner_4', inplace=True, axis=1)\n",
    "#df1.drop('PERCENT_OWN_owner_4', inplace=True, axis=1)"
   ]
  },
  {
   "cell_type": "code",
   "execution_count": null,
   "metadata": {
    "colab": {
     "base_uri": "https://localhost:8080/",
     "height": 505
    },
    "id": "3fizhD8JGu8J",
    "outputId": "c5f3ff08-26b2-4947-c848-86b3eec1776b"
   },
   "outputs": [],
   "source": [
    "df1"
   ]
  },
  {
   "cell_type": "code",
   "execution_count": null,
   "metadata": {
    "colab": {
     "base_uri": "https://localhost:8080/"
    },
    "id": "tcaYhi_RHOnH",
    "outputId": "3b69679a-ecbf-486d-9759-f2114dea67aa"
   },
   "outputs": [],
   "source": [
    "df1.columns"
   ]
  },
  {
   "cell_type": "code",
   "execution_count": null,
   "metadata": {
    "id": "ELfY_OrwHVaU"
   },
   "outputs": [],
   "source": [
    "df1.drop('years_in_business', inplace=True, axis=1)\n",
    "df1.drop('RATE_ID_FOR_location', inplace=True, axis=1)\n",
    "df1.drop('judgement_lien_percent', inplace=True, axis=1)\n",
    "df1.drop('INPUT_VALUE_ID_FOR_judgement_lien_amount', inplace=True, axis=1)\n",
    "df1.drop('INPUT_VALUE_ID_FOR_num_negative_days', inplace=True, axis=1)\n",
    "df1.drop('INPUT_VALUE_ID_FOR_num_deposits', inplace=True, axis=1)\n",
    "df1.drop('INPUT_VALUE_ID_FOR_monthly_gross', inplace=True, axis=1)\n",
    "df1.drop('INPUT_VALUE_ID_FOR_average_ledger', inplace=True, axis=1)\n",
    "df1.drop('INPUT_VALUE_ID_FOR_fc_margin', inplace=True, axis=1)\n",
    "df1.drop('INPUT_VALUE_ID_FOR_tax_lien_amount', inplace=True, axis=1)\n",
    "df1.drop('INPUT_VALUE_ID_FOR_tax_lien_percent', inplace=True, axis=1)\n",
    "df1.drop('INPUT_VALUE_ID_FOR_tax_lien_count', inplace=True, axis=1)\n",
    "df1.drop('RATE_ID_FOR_current_position', inplace=True, axis=1)\n",
    "df1.drop('deal_application_thread_id', inplace=True, axis=1)\n",
    "#df1.drop('PERCENT_OWN_owner_1', inplace=True, axis=1)\n"
   ]
  },
  {
   "cell_type": "code",
   "execution_count": null,
   "metadata": {},
   "outputs": [],
   "source": []
  },
  {
   "cell_type": "code",
   "execution_count": null,
   "metadata": {
    "colab": {
     "base_uri": "https://localhost:8080/",
     "height": 505
    },
    "id": "88KJPXUCXL3H",
    "outputId": "3e2e8526-b296-4867-c51d-fa8bdc970707"
   },
   "outputs": [],
   "source": [
    "df1\n"
   ]
  },
  {
   "cell_type": "code",
   "execution_count": null,
   "metadata": {
    "id": "B8syHQhFXL3L"
   },
   "outputs": [],
   "source": [
    "count = df1['funded_last_30'].value_counts()"
   ]
  },
  {
   "cell_type": "code",
   "execution_count": null,
   "metadata": {
    "colab": {
     "base_uri": "https://localhost:8080/"
    },
    "id": "TVMHKp3WXL3N",
    "outputId": "54f430b6-fede-42a3-fb8c-1961970e3243"
   },
   "outputs": [],
   "source": [
    "count\n"
   ]
  },
  {
   "cell_type": "code",
   "execution_count": null,
   "metadata": {
    "id": "tSZg2aFJXL3O"
   },
   "outputs": [],
   "source": [
    "df1.drop('funded_last_30', inplace=True, axis=1)\n"
   ]
  },
  {
   "cell_type": "code",
   "execution_count": null,
   "metadata": {
    "id": "8lkZu57VXL3P"
   },
   "outputs": [],
   "source": [
    "#df1['Difference'] = df1['owner_1_score'] - df1['INPUT_VALUE_owner_4']"
   ]
  },
  {
   "cell_type": "code",
   "execution_count": null,
   "metadata": {
    "id": "ksZFFTLHXL3Q"
   },
   "outputs": [],
   "source": [
    "#df1\n",
    "df1.drop('INPUT_VALUE_owner_4', inplace=True, axis=1)\n",
    "df1.drop('RATE_owner_4', inplace=True, axis=1)\n",
    "df1.drop('CAP_AMOUNT_owner_4', inplace=True, axis=1)\n",
    "df1.drop('PERCENT_OWN_owner_4', inplace=True, axis=1)\n"
   ]
  },
  {
   "cell_type": "code",
   "execution_count": null,
   "metadata": {
    "id": "NyopmIK1XL3T"
   },
   "outputs": [],
   "source": [
    "#df1['Difference'].unique()"
   ]
  },
  {
   "cell_type": "code",
   "execution_count": null,
   "metadata": {
    "colab": {
     "base_uri": "https://localhost:8080/",
     "height": 505
    },
    "id": "8Q1K0SFtXL3T",
    "outputId": "f5dd872d-7c15-4ded-ec8d-1ae490ccd342"
   },
   "outputs": [],
   "source": [
    "df1"
   ]
  },
  {
   "cell_type": "code",
   "execution_count": null,
   "metadata": {
    "id": "9o7dM3XCXL3U"
   },
   "outputs": [],
   "source": [
    "count1 = df1['RATE_ID_FOR_tax_lien_amount'].value_counts()\n",
    "count2 = df1['RATE_ID_FOR_tax_lien_percent'].value_counts()\n",
    "count3 = df1['RATE_ID_FOR_tax_lien_count'].value_counts()\n"
   ]
  },
  {
   "cell_type": "code",
   "execution_count": null,
   "metadata": {
    "colab": {
     "base_uri": "https://localhost:8080/"
    },
    "id": "mNw_fVAKXL3V",
    "outputId": "29f1e4df-6756-431f-be82-b0d221364b23"
   },
   "outputs": [],
   "source": [
    "count1"
   ]
  },
  {
   "cell_type": "code",
   "execution_count": null,
   "metadata": {
    "colab": {
     "base_uri": "https://localhost:8080/"
    },
    "id": "bzcargJKXL3V",
    "outputId": "0c3c5d2c-4046-4865-b78e-741029640996"
   },
   "outputs": [],
   "source": [
    "count2"
   ]
  },
  {
   "cell_type": "code",
   "execution_count": null,
   "metadata": {
    "colab": {
     "base_uri": "https://localhost:8080/"
    },
    "id": "XGgR3MSHXL3Z",
    "outputId": "1e763553-3016-4835-aac8-843eef32e3c7"
   },
   "outputs": [],
   "source": [
    "count3"
   ]
  },
  {
   "cell_type": "code",
   "execution_count": null,
   "metadata": {
    "id": "UiznUG1UXL3a"
   },
   "outputs": [],
   "source": [
    "df1.drop('RATE_ID_FOR_tax_lien_amount', inplace=True, axis=1)\n",
    "df1.drop('RATE_ID_FOR_tax_lien_percent', inplace=True, axis=1)\n",
    "df1.drop('RATE_ID_FOR_tax_lien_count', inplace=True, axis=1)"
   ]
  },
  {
   "cell_type": "code",
   "execution_count": null,
   "metadata": {
    "colab": {
     "base_uri": "https://localhost:8080/",
     "height": 505
    },
    "id": "vrPNoRV_XL3b",
    "outputId": "9a6e291b-b9b6-4456-c9b5-7c279e72e2fa"
   },
   "outputs": [],
   "source": [
    "df1\n"
   ]
  },
  {
   "cell_type": "code",
   "execution_count": null,
   "metadata": {
    "id": "KemIgixmXL3c"
   },
   "outputs": [],
   "source": [
    "count4 = df1['RATE_ID_FOR_judgement_lien_percent'].value_counts()\n",
    "count5 = df1['RATE_ID_FOR_judgement_lien_amount'].value_counts()\n",
    "count6 = df1['RATE_ID_FOR_num_negative_days'].value_counts()"
   ]
  },
  {
   "cell_type": "code",
   "execution_count": null,
   "metadata": {
    "colab": {
     "base_uri": "https://localhost:8080/"
    },
    "id": "54Uo4WYvXL3d",
    "outputId": "5fb25ad0-1bea-4a21-93dd-7cf3b984a46c"
   },
   "outputs": [],
   "source": [
    "count4"
   ]
  },
  {
   "cell_type": "code",
   "execution_count": null,
   "metadata": {
    "colab": {
     "base_uri": "https://localhost:8080/"
    },
    "id": "Bc2VovcBXL3e",
    "outputId": "3859ad3c-e919-43f5-fb7e-0c04b6f6e1aa"
   },
   "outputs": [],
   "source": [
    "count5\n"
   ]
  },
  {
   "cell_type": "code",
   "execution_count": null,
   "metadata": {
    "colab": {
     "base_uri": "https://localhost:8080/"
    },
    "id": "MV_dccFgXL3f",
    "outputId": "90522384-d7db-4375-84f6-1ca7a555d830"
   },
   "outputs": [],
   "source": [
    "count6"
   ]
  },
  {
   "cell_type": "code",
   "execution_count": null,
   "metadata": {
    "id": "-IttwqKKXL3f"
   },
   "outputs": [],
   "source": [
    "df1.drop('RATE_ID_FOR_judgement_lien_percent', inplace=True, axis=1)\n",
    "df1.drop('RATE_ID_FOR_judgement_lien_amount', inplace=True, axis=1)"
   ]
  },
  {
   "cell_type": "code",
   "execution_count": null,
   "metadata": {
    "colab": {
     "base_uri": "https://localhost:8080/",
     "height": 505
    },
    "id": "ce_edkwXXL3g",
    "outputId": "76b1ea23-72a6-4449-ce40-2cbc7843073b"
   },
   "outputs": [],
   "source": [
    "df1\n"
   ]
  },
  {
   "cell_type": "code",
   "execution_count": null,
   "metadata": {
    "id": "-INj61C4XL3h"
   },
   "outputs": [],
   "source": [
    "count7 = df1['PERCENT_OWN_owner_1'].value_counts()"
   ]
  },
  {
   "cell_type": "code",
   "execution_count": null,
   "metadata": {
    "colab": {
     "base_uri": "https://localhost:8080/"
    },
    "id": "UFUkxO3uXL33",
    "outputId": "3a4a0848-0707-47df-855c-d9400a136e7f"
   },
   "outputs": [],
   "source": [
    "count7"
   ]
  },
  {
   "cell_type": "code",
   "execution_count": null,
   "metadata": {
    "colab": {
     "base_uri": "https://localhost:8080/"
    },
    "id": "3_obnXPQXL36",
    "outputId": "7b13ac1d-610b-4cd7-ca8e-b707805962e1"
   },
   "outputs": [],
   "source": [
    "df1.isnull().sum()"
   ]
  },
  {
   "cell_type": "code",
   "execution_count": null,
   "metadata": {
    "colab": {
     "base_uri": "https://localhost:8080/"
    },
    "id": "OWzcp7KrXL38",
    "outputId": "af0a5c0c-c618-4384-8861-b4c3a866612c"
   },
   "outputs": [],
   "source": [
    "ata_type = df1['INPUT_VALUE_ID_FOR_industry_type'].dtype\n",
    "ata_type"
   ]
  },
  {
   "cell_type": "code",
   "execution_count": null,
   "metadata": {
    "id": "oJSdLm6nXL39"
   },
   "outputs": [],
   "source": [
    "df1['owner_1_score'].fillna(df1['owner_1_score'].mean(), inplace=True)\n",
    "df1['CAP_AMOUNT_owner_1'].fillna(df1['CAP_AMOUNT_owner_1'].mean(), inplace=True)\n",
    "df1['PERCENT_OWN_owner_1'].fillna(df1['PERCENT_OWN_owner_1'].mean(), inplace=True)\n",
    "df1['INPUT_VALUE_ID_FOR_avg_net_deposits'].fillna(df1['INPUT_VALUE_ID_FOR_avg_net_deposits'].mean(), inplace=True)\n",
    "#df1['owner_1_score'].fillna(df1['owner_1_score'].mean(), inplace=True)\n",
    "#df1['owner_1_score'].fillna(df1['owner_1_score'].mean(), inplace=True)\n"
   ]
  },
  {
   "cell_type": "code",
   "execution_count": null,
   "metadata": {
    "colab": {
     "base_uri": "https://localhost:8080/"
    },
    "id": "f66gxxHZXL3-",
    "outputId": "d857fecc-556b-4953-a598-82adafec7335"
   },
   "outputs": [],
   "source": [
    "df1.isnull().sum()"
   ]
  },
  {
   "cell_type": "code",
   "execution_count": null,
   "metadata": {
    "id": "pCEGdX5wXL3_"
   },
   "outputs": [],
   "source": [
    "#df1.isnull().sum()\n",
    "#df1['owner_1_score'] = df1['owner_1_score'].astype(int)"
   ]
  },
  {
   "cell_type": "code",
   "execution_count": null,
   "metadata": {
    "id": "MymboxM1XL4A"
   },
   "outputs": [],
   "source": [
    "# Replace 'numerical_column' and 'categorical_column' with your column names\n",
    "#numerical_column = 'owner_1_score'\n",
    "#categorical_column = 'RATE_owner_1'\n",
    "\n",
    "# Fill the numerical column with mean\n",
    "#mean_value = df1[numerical_column].mean()\n",
    "#df1[numerical_column].fillna(mean_value, inplace=True)\n",
    "\n",
    "# Fill the categorical column based on conditions\n",
    "#conditions = [\n",
    "   # (df1[numerical_column] > 650),\n",
    "    #(df1[numerical_column] > 600) & (df1[numerical_column] <= 650),\n",
    "    #(df1[numerical_column] > 500) & (df1[numerical_column] <= 600),\n",
    "   # (df1[numerical_column] <= 500)\n",
    "#]\n",
    "\n",
    "#choices = ['A', 'B', 'C', 'D']\n",
    "\n",
    "#df1[categorical_column] = df1[categorical_column].fillna(pd.Series(pd.Categorical.from_codes(\n",
    "#    pd.np.select(conditions, choices),\n",
    "  #  categories=choices\n",
    "#)))\n",
    "\n",
    "# Save the modified dataset\n",
    "#dataset.to_csv('filled_dataset.csv', index=False)"
   ]
  },
  {
   "cell_type": "code",
   "execution_count": null,
   "metadata": {
    "id": "B3F-Xu12XL4B"
   },
   "outputs": [],
   "source": [
    "df1['completion_status'] = df1['completion_status'].replace(['Paid off with renewal', 'Paid in full'], 'Paid in full')\n",
    "df1['completion_status'] = df1['completion_status'].replace(['Paid via discounted payoff', 'Default'], 'Default')"
   ]
  },
  {
   "cell_type": "code",
   "execution_count": null,
   "metadata": {
    "colab": {
     "base_uri": "https://localhost:8080/",
     "height": 488
    },
    "id": "CVmUjXpuXL4C",
    "outputId": "92bb06cb-243c-4b9c-88e2-30a15382fa33"
   },
   "outputs": [],
   "source": [
    "df1\n"
   ]
  },
  {
   "cell_type": "code",
   "execution_count": null,
   "metadata": {
    "id": "QFuUNCVNXL4C"
   },
   "outputs": [],
   "source": [
    "df1['RATE_owner_1'].fillna(method='ffill', inplace=True)\n",
    "df1['RATE_ID_FOR_years_in_business'].fillna(method='ffill', inplace=True)\n",
    "df1['location'].fillna(method='ffill', inplace=True)\n",
    "df1['RATE_ID_FOR_num_negative_days'].fillna(method='ffill', inplace=True)\n",
    "df1['INPUT_VALUE_ID_FOR_current_position'].fillna(method='ffill', inplace=True)\n",
    "df1['INPUT_VALUE_ID_FOR_industry_type'].fillna(method='ffill', inplace=True)\n"
   ]
  },
  {
   "cell_type": "code",
   "execution_count": null,
   "metadata": {
    "colab": {
     "base_uri": "https://localhost:8080/",
     "height": 488
    },
    "id": "oi3ni3kbXL4D",
    "outputId": "77750f67-e16e-428d-e82e-ea5475e7be5e"
   },
   "outputs": [],
   "source": [
    "df1"
   ]
  },
  {
   "cell_type": "code",
   "execution_count": null,
   "metadata": {
    "colab": {
     "base_uri": "https://localhost:8080/"
    },
    "id": "3CNuWyCZXL4E",
    "outputId": "de928019-cba9-47c7-f792-bc7b1ba8c6ba"
   },
   "outputs": [],
   "source": [
    "df1.isnull().sum()"
   ]
  },
  {
   "cell_type": "code",
   "execution_count": null,
   "metadata": {
    "id": "K6axL8ltXL4E"
   },
   "outputs": [],
   "source": [
    "label_encoder=LabelEncoder()\n",
    "df1['RATE_owner_1']=label_encoder.fit_transform(df1['RATE_owner_1'])\n",
    "df1['RATE_ID_FOR_years_in_business']=label_encoder.fit_transform(df1['RATE_ID_FOR_years_in_business'])\n",
    "df1['location']=label_encoder.fit_transform(df1['location'])\n",
    "df1['RATE_ID_FOR_num_negative_days']=label_encoder.fit_transform(df1['RATE_ID_FOR_num_negative_days'])\n",
    "df1['RATE_ID_FOR_num_deposits']=label_encoder.fit_transform(df1['RATE_ID_FOR_num_deposits'])\n",
    "df1['RATE_ID_FOR_monthly_gross']=label_encoder.fit_transform(df1['RATE_ID_FOR_monthly_gross'])\n",
    "df1['RATE_ID_FOR_average_ledger']=label_encoder.fit_transform(df1['RATE_ID_FOR_average_ledger'])\n",
    "df1['RATE_ID_FOR_fc_margin']=label_encoder.fit_transform(df1['RATE_ID_FOR_fc_margin'])\n",
    "df1['INPUT_VALUE_ID_FOR_industry_type']=label_encoder.fit_transform(df1['INPUT_VALUE_ID_FOR_industry_type'])\n",
    "df1['completion_status']=label_encoder.fit_transform(df1['completion_status'])\n",
    "\n"
   ]
  },
  {
   "cell_type": "code",
   "execution_count": null,
   "metadata": {
    "colab": {
     "base_uri": "https://localhost:8080/",
     "height": 488
    },
    "id": "KZJFRZGMXL4F",
    "outputId": "bc284e69-0b01-45bb-ff11-ab174315fb34"
   },
   "outputs": [],
   "source": [
    "df1\n"
   ]
  },
  {
   "cell_type": "code",
   "execution_count": null,
   "metadata": {
    "id": "Vmej402M3b35"
   },
   "outputs": [],
   "source": [
    "column_name = 'CAP_AMOUNT_owner_1'  # Replace with the actual column name\n",
    "min_value = df1[column_name].min()\n",
    "max_value = df1[column_name].max()\n",
    "df1[column_name] = (df1[column_name] - min_value) / (max_value - min_value)\n",
    "\n",
    "column_name = 'INPUT_VALUE_ID_FOR_avg_net_deposits'  # Replace with the actual column name\n",
    "min_value = df1[column_name].min()\n",
    "max_value = df1[column_name].max()\n",
    "df1[column_name] = (df1[column_name] - min_value) / (max_value - min_value)\n",
    "\n",
    "\n",
    "column_name = 'owner_1_score'  # Replace with the actual column name\n",
    "min_value = df1[column_name].min()\n",
    "max_value = df1[column_name].max()\n",
    "df1[column_name] = (df1[column_name] - min_value) / (max_value - min_value)"
   ]
  },
  {
   "cell_type": "code",
   "execution_count": null,
   "metadata": {
    "colab": {
     "base_uri": "https://localhost:8080/",
     "height": 488
    },
    "id": "NQwSsiam6sF0",
    "outputId": "79debb0d-0f1a-4886-9ba5-4b8e33a08661"
   },
   "outputs": [],
   "source": [
    "df1\n"
   ]
  },
  {
   "cell_type": "code",
   "execution_count": null,
   "metadata": {
    "id": "D79FkOEZ_NcZ"
   },
   "outputs": [],
   "source": [
    "\n",
    "np.random.seed(2)\n",
    "n=len(df1)\n",
    "indx=np.arange(n)\n",
    "print(indx)\n",
    "np.random.shuffle(indx)\n",
    "print(indx)\n",
    "df1=df1.iloc[indx]"
   ]
  },
  {
   "cell_type": "code",
   "execution_count": null,
   "metadata": {},
   "outputs": [],
   "source": [
    "df1"
   ]
  },
  {
   "cell_type": "code",
   "execution_count": null,
   "metadata": {},
   "outputs": [],
   "source": [
    "#from sklearn.model_selection import GridSearchCV\n",
    "#from sklearn.linear_model import Ridge\n",
    "\n",
    "# Define the Ridge model\n",
    "#model = Ridge()\n",
    "\n",
    "# Define the grid of hyperparameters\n",
    "#grid = {'alpha': np.arange(0, 1, 0.01)}\n",
    "\n",
    "# Create the GridSearchCV object\n",
    "#search = GridSearchCV(model, grid, scoring='neg_mean_squared_error', cv=10, n_jobs=-1)\n",
    "\n",
    "# Fit the feature extraction model to the data\n",
    "#best_model = search.fit(df1, 'completion_status')\n",
    "\n",
    "# Print the best mean squared error and best hyperparameters\n",
    "#print('MSE: %.3f' % best_model.best_score_)\n",
    "#print('Config: %s' % best_model.best_params_)\n"
   ]
  },
  {
   "cell_type": "code",
   "execution_count": null,
   "metadata": {
    "colab": {
     "base_uri": "https://localhost:8080/"
    },
    "id": "OIOv9x93ZFbe",
    "outputId": "0a2ea2f6-5875-46bf-81c4-64a9eaa1824a"
   },
   "outputs": [],
   "source": [
    "from sklearn.ensemble import RandomForestClassifier\n",
    "from sklearn.datasets import make_classification\n",
    "\n",
    "\n",
    "\n",
    "# Split into features (X) and labels (y)\n",
    "X = df1.iloc[:,: -1]\n",
    "Y = df1['completion_status']\n",
    "\n",
    "# Create a Random Forest classifier\n",
    "clf = RandomForestClassifier()\n",
    "\n",
    "# Train the classifier\n",
    "clf.fit(X, Y)\n",
    "\n",
    "# Get the feature importances\n",
    "importances = clf.feature_importances_\n",
    "\n",
    "# Sort the feature importances in descending order\n",
    "indices = importances.argsort()[::-1]\n",
    "\n",
    "# Print the feature ranking\n",
    "print(\"Feature ranking:\")\n",
    "for i, idx in enumerate(indices):\n",
    "    print(f\"Feature {idx}: importance score = {importances[idx]}\")\n"
   ]
  },
  {
   "cell_type": "code",
   "execution_count": null,
   "metadata": {},
   "outputs": [],
   "source": [
    "from sklearn.ensemble import RandomForestClassifier\n",
    "from sklearn.model_selection import GridSearchCV\n",
    "from sklearn.datasets import make_classification\n",
    "\n",
    "# Split into features (X) and labels (y)\n",
    "X = df1.iloc[:, :-1]\n",
    "y = df1['completion_status']\n",
    "\n",
    "# Create a Random Forest classifier\n",
    "clf = RandomForestClassifier()\n",
    "\n",
    "# Define the parameter grid for grid search\n",
    "param_grid = {\n",
    "    'n_estimators': [100, 200, 300],\n",
    "    'max_depth': [None, 5, 10],\n",
    "    'min_samples_split': [2, 5, 10]\n",
    "}\n",
    "\n",
    "# Create the GridSearchCV object\n",
    "grid_search = GridSearchCV(clf, param_grid, cv=5, scoring='accuracy')\n",
    "\n",
    "# Fit the grid search to the data\n",
    "grid_search.fit(X, y)\n",
    "\n",
    "# Get the best estimator from the grid search\n",
    "best_estimator = grid_search.best_estimator_\n",
    "\n",
    "# Print the best parameters and best score\n",
    "print(\"Best Parameters:\", grid_search.best_params_)\n",
    "print(\"Best Score:\", grid_search.best_score_)\n",
    "\n",
    "# Get the feature importances from the best estimator\n",
    "importances = best_estimator.feature_importances_\n",
    "\n",
    "# Sort the feature importances in descending order\n",
    "indices = importances.argsort()[::-1]\n",
    "\n",
    "# Print the feature ranking\n",
    "print(\"Feature ranking:\")\n",
    "for i, idx in enumerate(indices):\n",
    "    print(f\"Feature {idx}: importance score = {importances[idx]}\")"
   ]
  },
  {
   "cell_type": "code",
   "execution_count": null,
   "metadata": {
    "colab": {
     "base_uri": "https://localhost:8080/"
    },
    "id": "XvbonvA5dwPH",
    "outputId": "734b609c-29fe-461b-ddaa-8057bee19488"
   },
   "outputs": [],
   "source": [
    "\n",
    "\n",
    "\n",
    "# Split into features (X) and labels (y)\n",
    "X1 = df1.iloc[:,: -1]\n",
    "Y1 = df1['completion_status']\n",
    "\n",
    "\n",
    "# Create a logistic regression classifier\n",
    "clf = LogisticRegression()\n",
    "\n",
    "# Perform Recursive Feature Elimination with cross-validation\n",
    "rfecv = RFECV(estimator=clf, cv=5)\n",
    "X_selected = rfecv.fit_transform(X1, Y1)\n",
    "\n",
    "# Get the selected feature indices\n",
    "selected_indices = rfecv.get_support(indices=True)\n",
    "\n",
    "# Print the selected feature indices\n",
    "print(\"Selected feature indices:\", selected_indices)\n"
   ]
  },
  {
   "cell_type": "code",
   "execution_count": null,
   "metadata": {
    "id": "wqIYtwJhmHR1"
   },
   "outputs": [],
   "source": [
    "X_train, X_test, y_train, y_test = train_test_split(X, Y, test_size=0.25,random_state=100)\n"
   ]
  },
  {
   "cell_type": "code",
   "execution_count": null,
   "metadata": {
    "id": "2Ju8_laqmMBc"
   },
   "outputs": [],
   "source": [
    "# MinMax Scaler\n",
    "scaler = MinMaxScaler()\n",
    "X_train = scaler.fit_transform(X_train)\n",
    "X_test = scaler.transform(X_test)"
   ]
  },
  {
   "cell_type": "code",
   "execution_count": null,
   "metadata": {
    "colab": {
     "base_uri": "https://localhost:8080/"
    },
    "id": "4RwSxpa-mQW7",
    "outputId": "fbe7fcbd-8f40-4931-b2da-6ccafcbf5573"
   },
   "outputs": [],
   "source": [
    "label='completion_status'\n",
    "\n",
    "g = df1.groupby(label, group_keys=False)\n",
    "balanced_data = pd.DataFrame(g.apply(lambda x: x.sample(g.size().min()))).reset_index(drop=True)\n",
    "balanced_data.head()"
   ]
  },
  {
   "cell_type": "code",
   "execution_count": null,
   "metadata": {},
   "outputs": [],
   "source": [
    "balanced_data.groupby('completion_status')['completion_status'].count()"
   ]
  },
  {
   "cell_type": "code",
   "execution_count": null,
   "metadata": {},
   "outputs": [],
   "source": [
    "balanced_data"
   ]
  },
  {
   "cell_type": "code",
   "execution_count": null,
   "metadata": {
    "id": "MsXmz8spl4g0"
   },
   "outputs": [],
   "source": [
    "#X=df1.drop('completion_status',axis=1)\n",
    "#y=df1['completion_status']\n",
    "\n",
    "Y = df1['completion_status']\n",
    "X = df1.iloc[:,: -1]\n",
    "X_train, X_test, y_train, y_test = train_test_split (X,Y, test_size=0.3)"
   ]
  },
  {
   "cell_type": "markdown",
   "metadata": {
    "colab": {
     "base_uri": "https://localhost:8080/"
    },
    "id": "i11kmgnbmlI1",
    "outputId": "aa1cb9f2-c745-4dec-9772-af8eb3050ce0"
   },
   "source": [
    "# RandomForest"
   ]
  },
  {
   "cell_type": "code",
   "execution_count": null,
   "metadata": {
    "colab": {
     "base_uri": "https://localhost:8080/",
     "height": 75
    },
    "id": "kaQf8ZX3m7DE",
    "outputId": "ed46abe1-4d79-46c5-813a-0555e89e52f2"
   },
   "outputs": [],
   "source": [
    "#model1=RandomForestClassifier()\n",
    "#model1.fit(X_train_ns,y_train_ns)"
   ]
  },
  {
   "cell_type": "code",
   "execution_count": null,
   "metadata": {
    "colab": {
     "base_uri": "https://localhost:8080/"
    },
    "id": "61omdGl2nAfz",
    "outputId": "658be1e3-3c19-448f-aa84-26b3320a7ddf"
   },
   "outputs": [],
   "source": [
    "#y_pred=model1.predict(X_test)\n",
    "#print(\"Confusion Matrix: \\n\",confusion_matrix(y_test,y_pred))\n",
    "#print('\\n')\n",
    "#print(\"Accuracy Score: \\n\",accuracy_score(y_test,y_pred))\n",
    "#print('\\n')\n",
    "#print(\"Classification Report: \\n\",classification_report(y_test,y_pred))"
   ]
  },
  {
   "cell_type": "markdown",
   "metadata": {
    "id": "pXcL_tRvnOYo"
   },
   "source": [
    "# over sampling"
   ]
  },
  {
   "cell_type": "code",
   "execution_count": null,
   "metadata": {
    "colab": {
     "base_uri": "https://localhost:8080/"
    },
    "id": "JgVaHi5qnMeJ",
    "outputId": "dda9b42c-0cdc-402d-8356-f6594ad36a5e"
   },
   "outputs": [],
   "source": [
    "from imblearn.over_sampling import RandomOverSampler\n",
    "os=RandomOverSampler()\n",
    "X_train_os,y_train_os=os.fit_resample(X_train,y_train)\n",
    "print(\"The number of classes before fit {}\".format(Counter(y_train)))\n",
    "print(\"The number of classes after fit {}\".format(Counter(y_train_os)))"
   ]
  },
  {
   "cell_type": "code",
   "execution_count": null,
   "metadata": {
    "colab": {
     "base_uri": "https://localhost:8080/",
     "height": 75
    },
    "id": "rS8t6XQAnT7N",
    "outputId": "bf2ed1d4-56d7-446c-adb3-ced2da9b891c"
   },
   "outputs": [],
   "source": []
  },
  {
   "cell_type": "code",
   "execution_count": null,
   "metadata": {
    "colab": {
     "base_uri": "https://localhost:8080/"
    },
    "id": "8CRFfyErnZGX",
    "outputId": "1f5d7150-25b6-4e32-87be-2f2f391a46e2"
   },
   "outputs": [],
   "source": [
    "model2=RandomForestClassifier()\n",
    "model2.fit(X_train_os,y_train_os)\n",
    "\n",
    "y_pred=model2.predict(X_test)\n",
    "print(\"Confusion Matrix: \\n\",confusion_matrix(y_test,y_pred))\n",
    "print('\\n')\n",
    "print(\"Accuracy Score: \\n\",accuracy_score(y_test,y_pred))\n",
    "print('\\n')\n",
    "print(\"Classification Report: \\n\",classification_report(y_test,y_pred))"
   ]
  },
  {
   "cell_type": "markdown",
   "metadata": {
    "id": "SeJ_2n0ZnhQp"
   },
   "source": [
    "# smootk sampling"
   ]
  },
  {
   "cell_type": "code",
   "execution_count": null,
   "metadata": {
    "id": "EYraZNynnpB5"
   },
   "outputs": [],
   "source": [
    "smt=SMOTETomek()\n",
    "X_train_smt,y_train_smt=smt.fit_resample(X_train,y_train)\n",
    "print(\"The number of classes before fit {}\".format(Counter(y_train)))\n",
    "print(\"The number of classes after fit {}\".format(Counter(y_train_smt)))"
   ]
  },
  {
   "cell_type": "markdown",
   "metadata": {},
   "source": [
    "# RandomForest after smootk sampling"
   ]
  },
  {
   "cell_type": "code",
   "execution_count": null,
   "metadata": {
    "id": "35n8Fibpnugr"
   },
   "outputs": [],
   "source": [
    "model3=RandomForestClassifier()\n",
    "model3.fit(X_train_smt,y_train_smt)\n",
    "y_pred=model3.predict(X_test)\n",
    "print(\"Confusion Matrix: \\n\",confusion_matrix(y_test,y_pred))\n",
    "print('\\n')\n",
    "print(\"Accuracy Score: \\n\",accuracy_score(y_test,y_pred))\n",
    "print('\\n')\n",
    "print(\"Classification Report: \\n\",classification_report(y_test,y_pred))"
   ]
  },
  {
   "cell_type": "markdown",
   "metadata": {},
   "source": [
    "# DecisionTreeClassifier"
   ]
  },
  {
   "cell_type": "code",
   "execution_count": null,
   "metadata": {
    "colab": {
     "base_uri": "https://localhost:8080/"
    },
    "id": "QsQb48F_rM0A",
    "outputId": "efbd242f-4360-4ad0-85cf-5eb8c6205f39"
   },
   "outputs": [],
   "source": [
    "from sklearn.tree import DecisionTreeClassifier\n",
    "\n",
    "\n",
    "# Create a Decision Tree classifier\n",
    "classifier = DecisionTreeClassifier()\n",
    "\n",
    "# Train the classifier\n",
    "classifier.fit(X_train, y_train)\n",
    "\n",
    "# Make predictions on the test set\n",
    "y_pred = classifier.predict(X_test)\n",
    "\n",
    "# Print the confusion matrix\n",
    "print(\"Confusion Matrix: \\n\", confusion_matrix(y_test, y_pred))\n",
    "print('\\n')\n",
    "\n",
    "# Print the accuracy score\n",
    "print(\"Accuracy Score: \\n\", accuracy_score(y_test, y_pred))\n",
    "print('\\n')\n",
    "\n",
    "# Print the classification report\n",
    "print(\"Classification Report: \\n\", classification_report(y_test, y_pred))\n"
   ]
  },
  {
   "cell_type": "markdown",
   "metadata": {},
   "source": [
    "# logistic"
   ]
  },
  {
   "cell_type": "code",
   "execution_count": null,
   "metadata": {
    "colab": {
     "base_uri": "https://localhost:8080/"
    },
    "id": "HuThy_25raXb",
    "outputId": "0b838753-541b-439f-cd05-2c2871986dae"
   },
   "outputs": [],
   "source": [
    "\n",
    "\n",
    "\n",
    "# Create a Logistic Regression classifier\n",
    "classifier = LogisticRegression()\n",
    "\n",
    "# Train the classifier\n",
    "classifier.fit(X_train, y_train)\n",
    "\n",
    "# Make predictions on the test set\n",
    "y_pred = classifier.predict(X_test)\n",
    "\n",
    "# Calculate the accuracy of the classifier\n",
    "accuracy = accuracy_score(y_test, y_pred)\n",
    "# Print the confusion matrix\n",
    "print(\"Confusion Matrix: \\n\", confusion_matrix(y_test, y_pred))\n",
    "print('\\n')\n",
    "\n",
    "# Print the accuracy score\n",
    "print(\"Accuracy Score: \\n\", accuracy_score(y_test, y_pred))\n",
    "print('\\n')\n",
    "\n",
    "# Print the classification report\n",
    "print(\"Classification Report: \\n\", classification_report(y_test, y_pred))\n"
   ]
  },
  {
   "cell_type": "markdown",
   "metadata": {},
   "source": [
    "# svm"
   ]
  },
  {
   "cell_type": "code",
   "execution_count": null,
   "metadata": {
    "colab": {
     "base_uri": "https://localhost:8080/"
    },
    "id": "Lq4S8CbmAeUE",
    "outputId": "52784919-2616-4c86-80a7-e6aa363e4dcd"
   },
   "outputs": [],
   "source": [
    "\n",
    "# Create an SVM classifier\n",
    "classifier = SVC()\n",
    "\n",
    "# Train the classifier\n",
    "classifier.fit(X_train, y_train)\n",
    "\n",
    "# Make predictions on the test set\n",
    "y_pred = classifier.predict(X_test)\n",
    "\n",
    "# Calculate the accuracy of the classifier\n",
    "accuracy = accuracy_score(y_test, y_pred)\n",
    "# Print the confusion matrix\n",
    "print(\"Confusion Matrix: \\n\", confusion_matrix(y_test, y_pred))\n",
    "print('\\n')\n",
    "\n",
    "# Print the accuracy score\n",
    "print(\"Accuracy Score: \\n\", accuracy_score(y_test, y_pred))\n",
    "print('\\n')\n",
    "\n",
    "# Print the classification report\n",
    "print(\"Classification Report: \\n\", classification_report(y_test, y_pred))\n",
    "\n"
   ]
  },
  {
   "cell_type": "markdown",
   "metadata": {},
   "source": [
    "# GradientBoostingClassifier"
   ]
  },
  {
   "cell_type": "code",
   "execution_count": null,
   "metadata": {
    "id": "PUdE9d7OAeiX"
   },
   "outputs": [],
   "source": [
    "from sklearn.ensemble import GradientBoostingClassifier\n",
    "from sklearn.metrics import accuracy_score, confusion_matrix, classification_report\n",
    "\n",
    "# Create a Gradient Boosting Classifier\n",
    "classifier = GradientBoostingClassifier()\n",
    "\n",
    "# Train the classifier\n",
    "classifier.fit(X_train, y_train)\n",
    "\n",
    "# Make predictions on the test set\n",
    "y_pred = classifier.predict(X_test)\n",
    "\n",
    "# Calculate the accuracy of the classifier\n",
    "accuracy = accuracy_score(y_test, y_pred)\n",
    "\n",
    "# Print the confusion matrix\n",
    "print(\"Confusion Matrix: \\n\", confusion_matrix(y_test, y_pred))\n",
    "print('\\n')\n",
    "\n",
    "# Print the accuracy score\n",
    "print(\"Accuracy Score: \\n\", accuracy_score(y_test, y_pred))\n",
    "\n",
    "prc2 = precision_score(y_test, y_pred)\n",
    "rcl2 = recall_score(y_test, y_pred)\n",
    "f1_2 = f1_score(y_test, y_pred)\n",
    "\n",
    "\n",
    "print(prc2)\n",
    "print(rcl2)\n",
    "print(f1_2)\n",
    "print('\\n')\n",
    "\n",
    "# Print the classification report\n",
    "print(\"Classification Report: \\n\", classification_report(y_test, y_pred))\n"
   ]
  },
  {
   "cell_type": "markdown",
   "metadata": {},
   "source": [
    "# lightgbm"
   ]
  },
  {
   "cell_type": "code",
   "execution_count": null,
   "metadata": {},
   "outputs": [],
   "source": [
    "!pip install lightgbm"
   ]
  },
  {
   "cell_type": "code",
   "execution_count": null,
   "metadata": {},
   "outputs": [],
   "source": [
    "import lightgbm as lgb\n",
    "from sklearn.metrics import accuracy_score, confusion_matrix, classification_report\n",
    "\n",
    "# Create a LightGBM classifier\n",
    "classifier = lgb.LGBMClassifier()\n",
    "\n",
    "# Train the classifier\n",
    "classifier.fit(X_train, y_train)\n",
    "\n",
    "# Make predictions on the test set\n",
    "y_pred = classifier.predict(X_test)\n",
    "\n",
    "# Calculate the accuracy of the classifier\n",
    "accuracy = accuracy_score(y_test, y_pred)\n",
    "\n",
    "# Print the confusion matrix\n",
    "print(\"Confusion Matrix: \\n\", confusion_matrix(y_test, y_pred))\n",
    "print('\\n')\n",
    "\n",
    "# Print the accuracy score\n",
    "print(\"Accuracy Score: \\n\", accuracy_score(y_test, y_pred))\n",
    "print('\\n')\n",
    "\n",
    "# Print the classification report\n",
    "print(\"Classification Report: \\n\", classification_report(y_test, y_pred))\n"
   ]
  },
  {
   "cell_type": "markdown",
   "metadata": {},
   "source": [
    "# AdaBoostClassifier"
   ]
  },
  {
   "cell_type": "code",
   "execution_count": null,
   "metadata": {},
   "outputs": [],
   "source": [
    "from sklearn.ensemble import AdaBoostClassifier\n",
    "from sklearn.metrics import accuracy_score, confusion_matrix, classification_report\n",
    "\n",
    "# Create an AdaBoost classifier\n",
    "classifier = AdaBoostClassifier()\n",
    "\n",
    "# Train the classifier\n",
    "classifier.fit(X_train, y_train)\n",
    "\n",
    "# Make predictions on the test set\n",
    "y_pred = classifier.predict(X_test)\n",
    "\n",
    "# Calculate the accuracy of the classifier\n",
    "accuracy = accuracy_score(y_test, y_pred)\n",
    "\n",
    "# Print the confusion matrix\n",
    "print(\"Confusion Matrix: \\n\", confusion_matrix(y_test, y_pred))\n",
    "print('\\n')\n",
    "\n",
    "# Print the accuracy score\n",
    "print(\"Accuracy Score: \\n\", accuracy_score(y_test, y_pred))\n",
    "print('\\n')\n",
    "\n",
    "# Print the classification report\n",
    "print(\"Classification Report: \\n\", classification_report(y_test, y_pred))"
   ]
  },
  {
   "cell_type": "markdown",
   "metadata": {},
   "source": [
    "# KNeighborsClassifier"
   ]
  },
  {
   "cell_type": "code",
   "execution_count": null,
   "metadata": {},
   "outputs": [],
   "source": [
    "from sklearn.neighbors import KNeighborsClassifier\n",
    "from sklearn.metrics import accuracy_score, confusion_matrix, classification_report\n",
    "\n",
    "# Create a KNN classifier\n",
    "classifier = KNeighborsClassifier()\n",
    "\n",
    "# Train the classifier\n",
    "classifier.fit(X_train, y_train)\n",
    "\n",
    "# Make predictions on the test set\n",
    "y_pred = classifier.predict(X_test)\n",
    "\n",
    "# Calculate the accuracy of the classifier\n",
    "accuracy = accuracy_score(y_test, y_pred)\n",
    "\n",
    "# Print the confusion matrix\n",
    "print(\"Confusion Matrix: \\n\", confusion_matrix(y_test, y_pred))\n",
    "print('\\n')\n",
    "\n",
    "# Print the accuracy score\n",
    "print(\"Accuracy Score: \\n\", accuracy_score(y_test, y_pred))\n",
    "print('\\n')\n",
    "\n",
    "# Print the classification report\n",
    "print(\"Classification Report: \\n\", classification_report(y_test, y_pred))\n"
   ]
  },
  {
   "cell_type": "code",
   "execution_count": null,
   "metadata": {},
   "outputs": [],
   "source": [
    "import tensorflow as tf\n",
    "from tensorflow import keras\n",
    "from tensorflow.keras import layers\n",
    "from kerastuner.tuners import RandomSearch\n",
    "\n",
    "# Define the build_model function for Keras Tuner\n",
    "def build_model(hp):\n",
    "    model = keras.Sequential()\n",
    "    for i in range(hp.Int('num_layers', 2, 25)):\n",
    "        model.add(layers.Dense(units=hp.Int('units_' + str(i), min_value=32, max_value=512, step=32),\n",
    "                               activation='relu'))\n",
    "    model.add(layers.Dense(1, activation='sigmoid'))\n",
    "    model.compile(\n",
    "        optimizer=keras.optimizers.Adam(hp.Choice('learning_rate', [1e-2, 1e-3, 1e-4])),\n",
    "        loss='binary_crossentropy',\n",
    "        metrics=['accuracy'])\n",
    "    return model\n",
    "\n",
    "# Define the tuner and perform hyperparameter tuning\n",
    "tuner = RandomSearch(\n",
    "    build_model,\n",
    "    objective='val_accuracy',\n",
    "    max_trials=3,\n",
    "    executions_per_trial=3,\n",
    "    directory='my_tuning_dir',\n",
    "    project_name='my_tuning_project'\n",
    ")\n",
    "Y = df1['completion_status']\n",
    "X = df1.iloc[:,: -1]\n",
    "X_train, X_test, y_train, y_test = train_test_split (X,Y, test_size=0.3)\n",
    "\n",
    "\n",
    "tuner.search(X_train, y_train, epochs=10, validation_data=(X_test, y_test))\n",
    "\n",
    "# Get the best hyperparameter configuration\n",
    "best_hyperparameters = tuner.get_best_hyperparameters(num_trials=1)[0]\n",
    "best_model = tuner.hypermodel.build(best_hyperparameters)\n",
    "\n",
    "# Train the best model with the optimal hyperparameters\n",
    "best_model.fit(X_train, y_train, epochs=15, validation_data=(X_test, y_test))\n",
    "\n",
    "# Evaluate the best model\n",
    "test_loss, test_accuracy = best_model.evaluate(X_test, y_test)\n",
    "print(\"Test Loss:\", test_loss)\n",
    "print(\"Test Accuracy:\", test_accuracy)"
   ]
  },
  {
   "cell_type": "code",
   "execution_count": null,
   "metadata": {},
   "outputs": [],
   "source": [
    "import pandas as pd\n",
    "from sklearn.model_selection import train_test_split\n",
    "from sklearn.feature_extraction.text import TfidfVectorizer\n",
    "from sklearn.preprocessing import StandardScaler\n",
    "from sklearn.metrics import precision_score, recall_score, f1_score, accuracy_score\n",
    "\n",
    "# Load the test data\n",
    "test_data = pd.read_csv('test_data.csv')  # Replace 'test_data.csv' with your actual test data file\n",
    "\n",
    "# Split the data into features and labels\n",
    "X_test = test_data['text_column']  # Replace 'text_column' with the actual column name for your text data\n",
    "y_test = test_data['label_column']  # Replace 'label_column' with the actual column name for your labels\n",
    "\n",
    "# Preprocessing Techniques\n",
    "\n",
    "# Technique 1: Tokenization and Vectorization using TF-IDF\n",
    "vectorizer = TfidfVectorizer()\n",
    "X_test_tfidf = vectorizer.fit_transform(X_test)\n",
    "\n",
    "# Technique 2: Standardization of Numeric Features\n",
    "scaler = StandardScaler()\n",
    "X_test_scaled = scaler.fit_transform(X_test)\n",
    "\n",
    "# Technique 3: Other Preprocessing Techniques (Add your own preprocessing steps here)\n",
    "\n",
    "# Evaluation Metrics\n",
    "\n",
    "# Define a function to evaluate the model and print the metrics\n",
    "def evaluate_model(y_true, y_pred):\n",
    "    precision = precision_score(y_true, y_pred)\n",
    "    recall = recall_score(y_true, y_pred)\n",
    "    f1 = f1_score(y_true, y_pred)\n",
    "    accuracy = accuracy_score(y_true, y_pred)\n",
    "    \n",
    "    print(\"Precision:\", precision)\n",
    "    print(\"Recall:\", recall)\n",
    "    print(\"F1 Score:\", f1)\n",
    "    print(\"Accuracy:\", accuracy)\n",
    "\n",
    "# Evaluate Technique 1: Tokenization and Vectorization using TF-IDF\n",
    "# Replace 'model' with your actual trained model\n",
    "y_pred_tfidf = model.predict(X_test_tfidf)\n",
    "print(\"Evaluation for Technique 1: Tokenization and Vectorization using TF-IDF\")\n",
    "evaluate_model(y_test, y_pred_tfidf)\n",
    "\n",
    "# Evaluate Technique 2: Standardization of Numeric Features\n",
    "# Replace 'model' with your actual trained model\n",
    "y_pred_scaled = model.predict(X_test_scaled)\n",
    "print(\"Evaluation for Technique 2: Standardization of Numeric Features\")\n",
    "evaluate_model(y_test, y_pred_scaled)\n",
    "\n",
    "# Evaluate Technique 3: Other Preprocessing Techniques\n",
    "# Add your own evaluation code here\n"
   ]
  },
  {
   "cell_type": "code",
   "execution_count": null,
   "metadata": {},
   "outputs": [],
   "source": [
    "      # Storing my best hyperparameters in the best_h"
   ]
  },
  {
   "cell_type": "code",
   "execution_count": null,
   "metadata": {},
   "outputs": [],
   "source": []
  },
  {
   "cell_type": "code",
   "execution_count": null,
   "metadata": {},
   "outputs": [],
   "source": [
    "\n"
   ]
  },
  {
   "cell_type": "code",
   "execution_count": null,
   "metadata": {},
   "outputs": [],
   "source": []
  },
  {
   "cell_type": "code",
   "execution_count": null,
   "metadata": {},
   "outputs": [],
   "source": []
  }
 ],
 "metadata": {
  "colab": {
   "provenance": []
  },
  "kernelspec": {
   "display_name": "Python 3 (ipykernel)",
   "language": "python",
   "name": "python3"
  },
  "language_info": {
   "codemirror_mode": {
    "name": "ipython",
    "version": 3
   },
   "file_extension": ".py",
   "mimetype": "text/x-python",
   "name": "python",
   "nbconvert_exporter": "python",
   "pygments_lexer": "ipython3",
   "version": "3.9.12"
  }
 },
 "nbformat": 4,
 "nbformat_minor": 1
}
